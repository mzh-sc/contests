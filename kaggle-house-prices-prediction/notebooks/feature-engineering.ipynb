{
 "nbformat": 4,
 "nbformat_minor": 2,
 "metadata": {
  "language_info": {
   "name": "python",
   "codemirror_mode": {
    "name": "ipython",
    "version": 3
   },
   "version": "3.7.3"
  },
  "orig_nbformat": 2,
  "file_extension": ".py",
  "mimetype": "text/x-python",
  "name": "python",
  "npconvert_exporter": "python",
  "pygments_lexer": "ipython3",
  "version": 3
 },
 "cells": [
  {
   "cell_type": "code",
   "execution_count": 50,
   "metadata": {},
   "outputs": [],
   "source": [
    "import src.utils as u\n",
    "\n",
    "from importnb import Notebook\n",
    "\n",
    "with Notebook():\n",
    "    u.load_notebook(\"notebooks.common\")\n",
    "    from notebooks.common import *     "
   ]
  },
  {
   "cell_type": "markdown",
   "execution_count": null,
   "metadata": {},
   "outputs": [],
   "source": [
    "### Load data"
   ]
  },
  {
   "cell_type": "code",
   "execution_count": 70,
   "metadata": {},
   "outputs": [],
   "source": [
    "df = pd.read_pickle(u.full_path_name(r\"data\\interim\\1_0-mzh-data-preprocessing.pickle\"))"
   ]
  },
  {
   "cell_type": "markdown",
   "execution_count": 8,
   "metadata": {},
   "outputs": [],
   "source": [
    "## 1. Anlysis of SalePrice distribution"
   ]
  },
  {
   "cell_type": "code",
   "execution_count": 52,
   "metadata": {},
   "outputs": [],
   "source": [
    "import src.visualization.stats as st"
   ]
  },
  {
   "cell_type": "code",
   "execution_count": 53,
   "metadata": {},
   "outputs": [],
   "source": [
    "st.plot_feature_distribution(df[\"SalePrice\"])"
   ]
  },
  {
   "cell_type": "code",
   "execution_count": 54,
   "metadata": {},
   "outputs": [],
   "source": [
    "st.plot_feature_distribution(np.log1p(df[\"SalePrice\"]))"
   ]
  },
  {
   "cell_type": "markdown",
   "execution_count": null,
   "metadata": {},
   "outputs": [],
   "source": [
    "### Sale price transformation"
   ]
  },
  {
   "cell_type": "code",
   "execution_count": 55,
   "metadata": {},
   "outputs": [],
   "source": [
    "import src.features.engineering as eng"
   ]
  },
  {
   "cell_type": "code",
   "execution_count": 56,
   "metadata": {},
   "outputs": [],
   "source": [
    "pipeline = eng.create_y_pipeline()\n",
    "print(f\"SalePrice before transformation:\\n{df['SalePrice'].describe()}\\n\")\n",
    "\n",
    "y = pipeline.fit_transform(pd.DataFrame(df['SalePrice'].copy()))\n",
    "print(f\"SalePrice after transformation:\\n{y.describe()}\\n\")"
   ]
  },
  {
   "cell_type": "markdown",
   "execution_count": 41,
   "metadata": {},
   "outputs": [],
   "source": [
    "## 2. Base transformations"
   ]
  },
  {
   "cell_type": "code",
   "execution_count": 71,
   "metadata": {},
   "outputs": [],
   "source": [
    "df_X = df.copy().drop(\"SalePrice\", axis=1)"
   ]
  },
  {
   "cell_type": "code",
   "execution_count": 72,
   "metadata": {},
   "outputs": [],
   "source": [
    "from sklearn.preprocessing import StandardScaler\n",
    "\n",
    "X = df_X.copy()\n",
    "\n",
    "numerical_features = X.select_dtypes(exclude=['object']).columns\n",
    "scaler = StandardScaler()\n",
    "\n",
    "X.loc[:, numerical_features] = scaler.fit_transform(X.loc[:, numerical_features])\n",
    "print(f\"Scaler scales:\\n{[(col, scale) for col, scale in zip(numerical_features, scaler.scale_)]}\")"
   ]
  },
  {
   "cell_type": "code",
   "execution_count": 73,
   "metadata": {},
   "outputs": [],
   "source": [
    "X = eng.encode_categorical_features(X)"
   ]
  },
  {
   "cell_type": "code",
   "execution_count": 74,
   "metadata": {},
   "outputs": [],
   "source": [
    "base_pipeline = eng.create_X_common_pipeline()\n",
    "X_pipeline = base_pipeline.fit_transform(df_X.copy())"
   ]
  },
  {
   "cell_type": "code",
   "execution_count": 75,
   "metadata": {},
   "outputs": [],
   "source": [
    "X.equals(X_pipeline)"
   ]
  },
  {
   "cell_type": "markdown",
   "execution_count": 21,
   "metadata": {},
   "outputs": [],
   "source": [
    "## 3. PCA"
   ]
  },
  {
   "cell_type": "code",
   "execution_count": 76,
   "metadata": {},
   "outputs": [],
   "source": [
    "from sklearn.decomposition import PCA\n",
    "\n",
    "pca = PCA()\n",
    "pca.fit(X)"
   ]
  },
  {
   "cell_type": "code",
   "execution_count": 77,
   "metadata": {},
   "outputs": [],
   "source": [
    "cumulative_explained_variance = np.cumsum(pca.explained_variance_ratio_)\n",
    "plt.plot(range(len(cumulative_explained_variance)), cumulative_explained_variance)"
   ]
  },
  {
   "cell_type": "code",
   "execution_count": 78,
   "metadata": {},
   "outputs": [],
   "source": [
    "# explained_variance_ratio_\n",
    "next(i for (i, e) in enumerate(pca.explained_variance_) if e < 0.05)"
   ]
  },
  {
   "cell_type": "code",
   "execution_count": 79,
   "metadata": {},
   "outputs": [],
   "source": [
    "pca = PCA(n_components=83)\n",
    "X_pca = pca.fit_transform(X)\n",
    "X_pca.shape"
   ]
  },
  {
   "cell_type": "code",
   "execution_count": 80,
   "metadata": {},
   "outputs": [],
   "source": [
    "columns = [f\"PC{i}\" for i in range(X_pca.shape[1])]\n",
    "X_pca = pd.DataFrame(X_pca, columns=columns)"
   ]
  },
  {
   "cell_type": "code",
   "execution_count": 81,
   "metadata": {},
   "outputs": [],
   "source": [
    "X_pca.columns"
   ]
  },
  {
   "cell_type": "code",
   "execution_count": 82,
   "metadata": {},
   "outputs": [],
   "source": [
    "X_pca_pipeline = eng.create_X_pca_pipeline(83).fit_transform(X.copy())\n",
    "X_pca_pipeline.columns"
   ]
  },
  {
   "cell_type": "markdown",
   "execution_count": 2,
   "metadata": {},
   "outputs": [],
   "source": [
    "## 4. Correlation"
   ]
  },
  {
   "cell_type": "code",
   "execution_count": 86,
   "metadata": {},
   "outputs": [],
   "source": [
    "Xy = pd.concat([X, y], axis=1)"
   ]
  },
  {
   "cell_type": "code",
   "execution_count": 87,
   "metadata": {},
   "outputs": [],
   "source": [
    "corr_matrix = Xy.corr()"
   ]
  },
  {
   "cell_type": "code",
   "execution_count": 89,
   "metadata": {},
   "outputs": [],
   "source": [
    "potential_features = corr_matrix[corr_matrix[\"SalePrice\"].abs() > 0.4].sort_values(by=[\"SalePrice\"]).index.tolist()\n",
    "\n",
    "corr_matrix = corr_matrix.loc[potential_features, potential_features]\n",
    "potential_features"
   ]
  },
  {
   "cell_type": "code",
   "execution_count": 91,
   "metadata": {},
   "outputs": [],
   "source": [
    "cmap = sns.choose_diverging_palette(as_cmap=True)\n",
    "\n",
    "plt.subplots(figsize=(11, 9))\n",
    "hm = sns.heatmap(\n",
    "    corr_matrix, \n",
    "    cbar=True, \n",
    "    annot=True, \n",
    "    square=True, \n",
    "    fmt='.2f', \n",
    "    annot_kws={'size': 10},\n",
    "    linewidth=0.5, \n",
    "    cmap=cmap)\n",
    "hm.set_ylim(len(potential_features), 0)"
   ]
  },
  {
   "cell_type": "markdown",
   "execution_count": null,
   "metadata": {},
   "outputs": [],
   "source": [
    "Remove columns with high pair-wise corrrelation"
   ]
  },
  {
   "cell_type": "code",
   "execution_count": 92,
   "metadata": {},
   "outputs": [],
   "source": [
    "cols_to_remove = set()\n",
    "for i, col in enumerate(reversed(potential_features[:-1])):\n",
    "    col_corr = corr_matrix.iloc[0:len(potential_features)-i-2][col]\n",
    "    to_remove = col_corr[col_corr.abs() > 0.6].index.tolist()\n",
    "    if to_remove:\n",
    "        print(f\"{col}: {to_remove}\")\n",
    "        cols_to_remove.update(to_remove)\n",
    "cols_to_remove"
   ]
  },
  {
   "cell_type": "code",
   "execution_count": 93,
   "metadata": {},
   "outputs": [],
   "source": [
    "potential_features = [e for e in potential_features if e not in cols_to_remove]\n",
    "potential_features"
   ]
  },
  {
   "cell_type": "code",
   "execution_count": null,
   "metadata": {},
   "outputs": [],
   "source": [
    "X_corr = eng.create_X_correlation_pipeline(target_correlation_threshold=0.4, pair_correlation_threshold=0.6).fit_transform(X.copy(), y.copy())\n",
    "\n",
    "X_corr.columns"
   ]
  },
  {
   "cell_type": "code",
   "execution_count": null,
   "metadata": {},
   "outputs": [],
   "source": []
  }
 ]
}