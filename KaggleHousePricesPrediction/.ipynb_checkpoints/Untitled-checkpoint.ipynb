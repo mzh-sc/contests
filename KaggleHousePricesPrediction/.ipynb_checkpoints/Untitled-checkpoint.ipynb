{
 "cells": [
  {
   "cell_type": "code",
   "execution_count": 1,
   "metadata": {},
   "outputs": [
    {
     "name": "stdout",
     "output_type": "stream",
     "text": [
      "# packages in environment at C:\\Users\\m.zhukov\\AppData\\Local\\Continuum\\miniconda3\\envs\\becoming-data-scientist:\n",
      "#\n",
      "# Name                    Version                   Build  Channel\n",
      "_tflow_select             2.3.0                       mkl  \n",
      "absl-py                   0.8.0                    py37_0  \n",
      "asn1crypto                0.24.0                   py37_0  \n",
      "astor                     0.8.0                    py37_0  \n",
      "atomicwrites              1.3.0                    pypi_0    pypi\n",
      "attrs                     19.1.0                   py37_1  \n",
      "backcall                  0.1.0                    py37_0  \n",
      "blas                      1.0                         mkl    conda-forge\n",
      "bleach                    3.1.0                    py37_0  \n",
      "bzip2                     1.0.8                he774522_0  \n",
      "ca-certificates           2019.10.16                    0  \n",
      "certifi                   2019.9.11                py37_0  \n",
      "cffi                      1.12.3           py37h7a1dbc1_0  \n",
      "chardet                   3.0.4                    py37_1  \n",
      "colorama                  0.4.1                    py37_0  \n",
      "conda-package-handling    1.3.11                   py37_0    conda-forge\n",
      "console_shortcut          0.1.1                         3  \n",
      "cryptography              2.7              py37h7a1dbc1_0  \n",
      "cycler                    0.10.0                   py37_0  \n",
      "decorator                 4.4.0                    py37_1  \n",
      "defusedxml                0.6.0                      py_0    conda-forge\n",
      "entrypoints               0.3                      py37_0  \n",
      "freetype                  2.9.1                ha9979f8_1  \n",
      "gast                      0.3.2                      py_0  \n",
      "grpcio                    1.16.1           py37h351948d_1  \n",
      "h5py                      2.9.0            py37h5e291fa_0  \n",
      "hdf5                      1.10.4               h7ebc959_0  \n",
      "icc_rt                    2019.0.0             h0cc432a_1  \n",
      "icu                       58.2                 ha66f8fd_1  \n",
      "idna                      2.8                      py37_0  \n",
      "import-ipynb              0.1.3                    pypi_0    pypi\n",
      "importlib-metadata        0.23                     pypi_0    pypi\n",
      "intel-openmp              2019.4                      245  \n",
      "ipykernel                 5.1.2            py37h39e3cac_0  \n",
      "ipytest                   0.7.1                    pypi_0    pypi\n",
      "ipython                   7.8.0            py37h39e3cac_0  \n",
      "ipython-unittest          0.3.1                    pypi_0    pypi\n",
      "ipython_genutils          0.2.0                    py37_0  \n",
      "ipywidgets                7.5.1                      py_0    conda-forge\n",
      "jedi                      0.15.1                   py37_0    conda-forge\n",
      "jinja2                    2.10.1                   py37_0  \n",
      "joblib                    0.13.2                   py37_0  \n",
      "jpeg                      9b                   hb83a4c4_2  \n",
      "jsonschema                3.0.2                    py37_0    conda-forge\n",
      "jupyter                   1.0.0                    py37_7  \n",
      "jupyter_client            5.3.3                    py37_1    conda-forge\n",
      "jupyter_console           6.0.0                    py37_0  \n",
      "jupyter_contrib_core      0.3.3                      py_2    conda-forge\n",
      "jupyter_contrib_nbextensions 0.5.1                    py37_0    conda-forge\n",
      "jupyter_core              4.5.0                      py_0    conda-forge\n",
      "jupyter_highlight_selected_word 0.2.0                 py37_1000    conda-forge\n",
      "jupyter_latex_envs        1.4.4                 py37_1000    conda-forge\n",
      "jupyter_nbextensions_configurator 0.4.1                    py37_0    conda-forge\n",
      "keras-applications        1.0.8                      py_0  \n",
      "keras-preprocessing       1.1.0                      py_1  \n",
      "kiwisolver                1.1.0            py37ha925a31_0  \n",
      "libarchive                3.3.3                h0643e63_5  \n",
      "libiconv                  1.15                 h1df5818_7  \n",
      "libmklml                  2019.0.5                      0  \n",
      "libpng                    1.6.37               h2a8f88b_0  \n",
      "libprotobuf               3.8.0                h7bd577a_0  \n",
      "libsodium                 1.0.16               h9d3ae62_0  \n",
      "libxml2                   2.9.9                h464c3ec_0  \n",
      "libxslt                   1.1.33               heafd4d3_0    conda-forge\n",
      "lxml                      4.4.1            py37heafd4d3_0    conda-forge\n",
      "lz4-c                     1.8.1.2              h2fa13f4_0  \n",
      "lzo                       2.10                 h6df0209_2  \n",
      "m2w64-gcc-libgfortran     5.3.0                         6  \n",
      "m2w64-gcc-libs            5.3.0                         7  \n",
      "m2w64-gcc-libs-core       5.3.0                         7  \n",
      "m2w64-gmp                 6.1.0                         2  \n",
      "m2w64-libwinpthread-git   5.0.0.4634.697f757               2  \n",
      "markdown                  3.1.1                    py37_0  \n",
      "markupsafe                1.1.1            py37he774522_0  \n",
      "matplotlib                3.1.1            py37hc8f65d3_0  \n",
      "menuinst                  1.4.16           py37he774522_0  \n",
      "mistune                   0.8.4            py37he774522_0  \n",
      "mkl                       2019.4                      245  \n",
      "mkl-service               2.0.2            py37he774522_0  \n",
      "mkl_fft                   1.0.12           py37h14836fe_0  \n",
      "mkl_random                1.0.2            py37h343c172_0  \n",
      "more-itertools            7.2.0                    pypi_0    pypi\n",
      "msys2-conda-epoch         20160418                      1  \n",
      "nbconvert                 5.6.0                    py37_1    conda-forge\n",
      "nbformat                  4.4.0                    py37_0  \n",
      "notebook                  6.0.1                    py37_0    conda-forge\n",
      "numpy                     1.16.4           py37h19fb1c0_0  \n",
      "numpy-base                1.16.4           py37hc3f5095_0  \n",
      "openssl                   1.1.1c               he774522_1  \n",
      "packaging                 19.2                     pypi_0    pypi\n",
      "pandas                    0.25.1           py37ha925a31_0  \n",
      "pandoc                    2.2.3.2                       0  \n",
      "pandocfilters             1.4.2                    py37_1  \n",
      "parso                     0.5.1                      py_0    conda-forge\n",
      "patsy                     0.5.1                    py37_0  \n",
      "pickleshare               0.7.5                    py37_0  \n",
      "pip                       19.1.1                   py37_0    conda-forge\n",
      "pluggy                    0.13.0                   pypi_0    pypi\n",
      "powershell_shortcut       0.0.1                         2  \n",
      "prometheus_client         0.7.1                      py_0    conda-forge\n",
      "prompt_toolkit            2.0.9                    py37_0  \n",
      "protobuf                  3.8.0            py37h33f27b4_0  \n",
      "py                        1.8.0                    pypi_0    pypi\n",
      "pycosat                   0.6.3            py37hfa6e2cd_0  \n",
      "pycparser                 2.19                     py37_0  \n",
      "pygments                  2.4.2                      py_0    conda-forge\n",
      "pyopenssl                 19.0.0                   py37_0    conda-forge\n",
      "pyparsing                 2.4.2                      py_0    conda-forge\n",
      "pyqt                      5.9.2            py37h6538335_2  \n",
      "pyreadline                2.1                      py37_1  \n",
      "pyrsistent                0.14.11          py37he774522_0  \n",
      "pysocks                   1.7.0                    py37_0    conda-forge\n",
      "pytest                    5.2.2                    pypi_0    pypi\n",
      "python                    3.7.3                h8c8aaf0_1  \n",
      "python-dateutil           2.8.0                    py37_0  \n",
      "python-libarchive-c       2.8                     py37_11  \n",
      "pytz                      2019.2                     py_0    conda-forge\n",
      "pywin32                   223              py37hfa6e2cd_1  \n",
      "pywinpty                  0.5.5                 py37_1000    conda-forge\n",
      "pyyaml                    5.1.2            py37hfa6e2cd_0    conda-forge\n",
      "pyzmq                     18.1.0           py37ha925a31_0  \n",
      "qt                        5.9.7            vc14h73c81de_0  \n",
      "qtconsole                 4.5.5                      py_0    conda-forge\n",
      "requests                  2.22.0                   py37_0    conda-forge\n",
      "ruamel_yaml               0.15.46          py37hfa6e2cd_0  \n",
      "scikit-learn              0.21.2           py37h6288b17_0  \n",
      "scipy                     1.2.1            py37h29ff71c_0  \n",
      "seaborn                   0.9.0                    py37_0  \n",
      "send2trash                1.5.0                    py37_0  \n",
      "setuptools                41.0.1                   py37_0    conda-forge\n",
      "sip                       4.19.8           py37h6538335_0    conda-forge\n",
      "six                       1.12.0                   py37_0  \n",
      "sqlite                    3.29.0               he774522_0  \n",
      "statsmodels               0.10.1           py37h8c2d366_0  \n",
      "tensorboard               1.14.0           py37he3c9ec2_0  \n",
      "tensorflow                1.14.0          mkl_py37h7908ca0_0  \n",
      "tensorflow-base           1.14.0          mkl_py37ha978198_0  \n",
      "tensorflow-estimator      1.14.0                     py_0  \n",
      "termcolor                 1.1.0                    py37_1  \n",
      "terminado                 0.8.2                    py37_0    conda-forge\n",
      "testpath                  0.4.2                    py37_0  \n",
      "tornado                   6.0.3            py37he774522_0  \n",
      "tqdm                      4.32.1                     py_0    conda-forge\n",
      "traitlets                 4.3.2                    py37_0    conda-forge\n",
      "urllib3                   1.24.2                   py37_0    conda-forge\n",
      "vc                        14.1                 h0510ff6_4  \n",
      "vs2015_runtime            14.15.26706          h3a45250_4  \n",
      "wcwidth                   0.1.7                    py37_0  \n",
      "webencodings              0.5.1                    py37_1  \n",
      "werkzeug                  0.16.0                     py_0  \n",
      "wheel                     0.33.4                   py37_0    conda-forge\n",
      "widgetsnbextension        3.5.1                    py37_0    conda-forge\n",
      "win_inet_pton             1.1.0                    py37_0    conda-forge\n",
      "wincertstore              0.2                      py37_0  \n",
      "winpty                    0.4.3                         4    conda-forge\n",
      "wrapt                     1.11.2           py37he774522_0  \n",
      "xz                        5.2.4                h2fa13f4_4  \n",
      "yaml                      0.1.7                hc54c509_2  \n",
      "zeromq                    4.3.1                h33f27b4_3  \n",
      "zipp                      0.6.0                    pypi_0    pypi\n",
      "zlib                      1.2.11               h62dcd97_3  \n",
      "zstd                      1.3.7                h508b16e_0  \n",
      "\n",
      "Note: you may need to restart the kernel to use updated packages.\n"
     ]
    }
   ],
   "source": [
    "%conda list\n"
   ]
  },
  {
   "cell_type": "code",
   "execution_count": 13,
   "metadata": {},
   "outputs": [
    {
     "name": "stdout",
     "output_type": "stream",
     "text": [
      "The autoreload extension is already loaded. To reload it, use:\n",
      "  %reload_ext autoreload\n"
     ]
    }
   ],
   "source": [
    "%load_ext autoreload\n",
    "%autoreload"
   ]
  },
  {
   "cell_type": "code",
   "execution_count": 20,
   "metadata": {},
   "outputs": [],
   "source": [
    "import import_ipynb\n",
    "import dasci.data.overview as o"
   ]
  },
  {
   "cell_type": "code",
   "execution_count": 22,
   "metadata": {},
   "outputs": [
    {
     "ename": "AttributeError",
     "evalue": "module 'dasci.data' has no attribute 'overview'",
     "output_type": "error",
     "traceback": [
      "\u001b[1;31m---------------------------------------------------------------------------\u001b[0m",
      "\u001b[1;31mAttributeError\u001b[0m                            Traceback (most recent call last)",
      "\u001b[1;32m<ipython-input-22-6aaaa1a47ef8>\u001b[0m in \u001b[0;36m<module>\u001b[1;34m\u001b[0m\n\u001b[0;32m      1\u001b[0m \u001b[1;32mimport\u001b[0m \u001b[0mimportlib\u001b[0m\u001b[1;33m\u001b[0m\u001b[1;33m\u001b[0m\u001b[0m\n\u001b[1;32m----> 2\u001b[1;33m \u001b[0mimportlib\u001b[0m\u001b[1;33m.\u001b[0m\u001b[0mreload\u001b[0m\u001b[1;33m(\u001b[0m\u001b[0mdasci\u001b[0m\u001b[1;33m.\u001b[0m\u001b[0mdata\u001b[0m\u001b[1;33m.\u001b[0m\u001b[0moverview\u001b[0m\u001b[1;33m)\u001b[0m\u001b[1;33m\u001b[0m\u001b[1;33m\u001b[0m\u001b[0m\n\u001b[0m",
      "\u001b[1;31mAttributeError\u001b[0m: module 'dasci.data' has no attribute 'overview'"
     ]
    }
   ],
   "source": [
    "import importlib\n",
    "importlib.reload(dasci.data.overview)"
   ]
  },
  {
   "cell_type": "code",
   "execution_count": 15,
   "metadata": {},
   "outputs": [
    {
     "data": {
      "text/plain": [
       "7"
      ]
     },
     "execution_count": 15,
     "metadata": {},
     "output_type": "execute_result"
    }
   ],
   "source": [
    "o.xy"
   ]
  },
  {
   "cell_type": "code",
   "execution_count": 16,
   "metadata": {},
   "outputs": [
    {
     "ename": "AttributeError",
     "evalue": "module 'import_ipynb' has no attribute 'show_notebook'",
     "output_type": "error",
     "traceback": [
      "\u001b[1;31m---------------------------------------------------------------------------\u001b[0m",
      "\u001b[1;31mAttributeError\u001b[0m                            Traceback (most recent call last)",
      "\u001b[1;32m<ipython-input-16-38726223d635>\u001b[0m in \u001b[0;36m<module>\u001b[1;34m\u001b[0m\n\u001b[1;32m----> 1\u001b[1;33m \u001b[0mimp\u001b[0m\u001b[1;33m.\u001b[0m\u001b[0mshow_notebook\u001b[0m\u001b[1;33m(\u001b[0m\u001b[0mos\u001b[0m\u001b[1;33m.\u001b[0m\u001b[0mpath\u001b[0m\u001b[1;33m.\u001b[0m\u001b[0mjoin\u001b[0m\u001b[1;33m(\u001b[0m\u001b[1;34m\"nbpackage\"\u001b[0m\u001b[1;33m,\u001b[0m \u001b[1;34m\"nbs\"\u001b[0m\u001b[1;33m,\u001b[0m \u001b[1;34m\"other.ipynb\"\u001b[0m\u001b[1;33m)\u001b[0m\u001b[1;33m)\u001b[0m\u001b[1;33m\u001b[0m\u001b[1;33m\u001b[0m\u001b[0m\n\u001b[0m",
      "\u001b[1;31mAttributeError\u001b[0m: module 'import_ipynb' has no attribute 'show_notebook'"
     ]
    }
   ],
   "source": [
    "imp.show_notebook(os.path.join(\"nbpackage\", \"nbs\", \"other.ipynb\"))"
   ]
  },
  {
   "cell_type": "code",
   "execution_count": 23,
   "metadata": {},
   "outputs": [
    {
     "name": "stdout",
     "output_type": "stream",
     "text": [
      "Collecting ipynb\n",
      "  Downloading https://files.pythonhosted.org/packages/31/42/4c0bbb66390e3a68e04ebf134c8d074a00c18b5882293f8ace5f7497fbf0/ipynb-0.5.1-py3-none-any.whl\n",
      "Installing collected packages: ipynb\n",
      "Successfully installed ipynb-0.5.1\n",
      "Note: you may need to restart the kernel to use updated packages.\n"
     ]
    }
   ],
   "source": [
    "%pip install ipynb"
   ]
  },
  {
   "cell_type": "code",
   "execution_count": 6,
   "metadata": {},
   "outputs": [
    {
     "ename": "ValueError",
     "evalue": "module {} has no valid __file__, please pass filename instead.",
     "output_type": "error",
     "traceback": [
      "\u001b[1;31m---------------------------------------------------------------------------\u001b[0m",
      "\u001b[1;31mValueError\u001b[0m                                Traceback (most recent call last)",
      "\u001b[1;32m<ipython-input-6-2f9b12ed42f2>\u001b[0m in \u001b[0;36m<module>\u001b[1;34m\u001b[0m\n\u001b[1;32m----> 1\u001b[1;33m \u001b[1;32mimport\u001b[0m \u001b[0mipynb\u001b[0m\u001b[1;33m.\u001b[0m\u001b[0mfs\u001b[0m\u001b[1;33m.\u001b[0m\u001b[0mfull\u001b[0m\u001b[1;33m.\u001b[0m\u001b[0moverview1\u001b[0m\u001b[1;33m\u001b[0m\u001b[1;33m\u001b[0m\u001b[0m\n\u001b[0m",
      "\u001b[1;32moverview.ipynb\u001b[0m in \u001b[0;36m<module>\u001b[1;34m\u001b[0m\n\u001b[0;32m     44\u001b[0m     \u001b[1;34m\"\\n\"\u001b[0m\u001b[1;33m,\u001b[0m\u001b[1;33m\u001b[0m\u001b[1;33m\u001b[0m\u001b[0m\n\u001b[0;32m     45\u001b[0m     \u001b[1;34m\"    def testToPow(self):\\n\"\u001b[0m\u001b[1;33m,\u001b[0m\u001b[1;33m\u001b[0m\u001b[1;33m\u001b[0m\u001b[0m\n\u001b[1;32m---> 46\u001b[1;33m     \u001b[1;34m\"        xy = 4\\n\"\u001b[0m\u001b[1;33m,\u001b[0m\u001b[1;33m\u001b[0m\u001b[1;33m\u001b[0m\u001b[0m\n\u001b[0m\u001b[0;32m     47\u001b[0m     \u001b[1;34m\"        df.head()\\n\"\u001b[0m\u001b[1;33m,\u001b[0m\u001b[1;33m\u001b[0m\u001b[1;33m\u001b[0m\u001b[0m\n\u001b[0;32m     48\u001b[0m     \u001b[1;34m\"        pow3 = 3**3\\n\"\u001b[0m\u001b[1;33m,\u001b[0m\u001b[1;33m\u001b[0m\u001b[1;33m\u001b[0m\u001b[0m\n",
      "\u001b[1;32m~\\AppData\\Local\\Continuum\\miniconda3\\envs\\becoming-data-scientist\\lib\\site-packages\\ipytest\\_pytest_support.py\u001b[0m in \u001b[0;36mrun\u001b[1;34m(module, filename, plugins, return_exit_code, *args)\u001b[0m\n\u001b[0;32m     64\u001b[0m             \u001b[0mfilename\u001b[0m\u001b[1;33m=\u001b[0m\u001b[0mfilename\u001b[0m\u001b[1;33m,\u001b[0m\u001b[1;33m\u001b[0m\u001b[1;33m\u001b[0m\u001b[0m\n\u001b[0;32m     65\u001b[0m             \u001b[0mplugins\u001b[0m\u001b[1;33m=\u001b[0m\u001b[0mplugins\u001b[0m\u001b[1;33m,\u001b[0m\u001b[1;33m\u001b[0m\u001b[1;33m\u001b[0m\u001b[0m\n\u001b[1;32m---> 66\u001b[1;33m             \u001b[0mreturn_exit_code\u001b[0m\u001b[1;33m=\u001b[0m\u001b[0mreturn_exit_code\u001b[0m\u001b[1;33m,\u001b[0m\u001b[1;33m\u001b[0m\u001b[1;33m\u001b[0m\u001b[0m\n\u001b[0m\u001b[0;32m     67\u001b[0m         )\n\u001b[0;32m     68\u001b[0m \u001b[1;33m\u001b[0m\u001b[0m\n",
      "\u001b[1;32m~\\AppData\\Local\\Continuum\\miniconda3\\envs\\becoming-data-scientist\\lib\\site-packages\\ipytest\\_pytest_support.py\u001b[0m in \u001b[0;36m_run_impl\u001b[1;34m(module, filename, plugins, return_exit_code, *args)\u001b[0m\n\u001b[0;32m     90\u001b[0m         \u001b[1;32mimport\u001b[0m \u001b[0m__main__\u001b[0m \u001b[1;32mas\u001b[0m \u001b[0mmodule\u001b[0m\u001b[1;33m\u001b[0m\u001b[1;33m\u001b[0m\u001b[0m\n\u001b[0;32m     91\u001b[0m \u001b[1;33m\u001b[0m\u001b[0m\n\u001b[1;32m---> 92\u001b[1;33m     \u001b[1;32mwith\u001b[0m \u001b[0m_valid_filename\u001b[0m\u001b[1;33m(\u001b[0m\u001b[0mfilename\u001b[0m\u001b[1;33m,\u001b[0m \u001b[0mmodule\u001b[0m\u001b[1;33m)\u001b[0m \u001b[1;32mas\u001b[0m \u001b[0mvalid_filename\u001b[0m\u001b[1;33m:\u001b[0m\u001b[1;33m\u001b[0m\u001b[1;33m\u001b[0m\u001b[0m\n\u001b[0m\u001b[0;32m     93\u001b[0m         exit_code = pytest.main(\n\u001b[0;32m     94\u001b[0m             \u001b[0mlist\u001b[0m\u001b[1;33m(\u001b[0m\u001b[0mconfig\u001b[0m\u001b[1;33m.\u001b[0m\u001b[0maddopts\u001b[0m\u001b[1;33m)\u001b[0m \u001b[1;33m+\u001b[0m \u001b[0mlist\u001b[0m\u001b[1;33m(\u001b[0m\u001b[0margs\u001b[0m\u001b[1;33m)\u001b[0m \u001b[1;33m+\u001b[0m \u001b[1;33m[\u001b[0m\u001b[0mvalid_filename\u001b[0m\u001b[1;33m]\u001b[0m\u001b[1;33m,\u001b[0m\u001b[1;33m\u001b[0m\u001b[1;33m\u001b[0m\u001b[0m\n",
      "\u001b[1;32m~\\AppData\\Local\\Continuum\\miniconda3\\envs\\becoming-data-scientist\\lib\\contextlib.py\u001b[0m in \u001b[0;36m__enter__\u001b[1;34m(self)\u001b[0m\n\u001b[0;32m    110\u001b[0m         \u001b[1;32mdel\u001b[0m \u001b[0mself\u001b[0m\u001b[1;33m.\u001b[0m\u001b[0margs\u001b[0m\u001b[1;33m,\u001b[0m \u001b[0mself\u001b[0m\u001b[1;33m.\u001b[0m\u001b[0mkwds\u001b[0m\u001b[1;33m,\u001b[0m \u001b[0mself\u001b[0m\u001b[1;33m.\u001b[0m\u001b[0mfunc\u001b[0m\u001b[1;33m\u001b[0m\u001b[1;33m\u001b[0m\u001b[0m\n\u001b[0;32m    111\u001b[0m         \u001b[1;32mtry\u001b[0m\u001b[1;33m:\u001b[0m\u001b[1;33m\u001b[0m\u001b[1;33m\u001b[0m\u001b[0m\n\u001b[1;32m--> 112\u001b[1;33m             \u001b[1;32mreturn\u001b[0m \u001b[0mnext\u001b[0m\u001b[1;33m(\u001b[0m\u001b[0mself\u001b[0m\u001b[1;33m.\u001b[0m\u001b[0mgen\u001b[0m\u001b[1;33m)\u001b[0m\u001b[1;33m\u001b[0m\u001b[1;33m\u001b[0m\u001b[0m\n\u001b[0m\u001b[0;32m    113\u001b[0m         \u001b[1;32mexcept\u001b[0m \u001b[0mStopIteration\u001b[0m\u001b[1;33m:\u001b[0m\u001b[1;33m\u001b[0m\u001b[1;33m\u001b[0m\u001b[0m\n\u001b[0;32m    114\u001b[0m             \u001b[1;32mraise\u001b[0m \u001b[0mRuntimeError\u001b[0m\u001b[1;33m(\u001b[0m\u001b[1;34m\"generator didn't yield\"\u001b[0m\u001b[1;33m)\u001b[0m \u001b[1;32mfrom\u001b[0m \u001b[1;32mNone\u001b[0m\u001b[1;33m\u001b[0m\u001b[1;33m\u001b[0m\u001b[0m\n",
      "\u001b[1;32m~\\AppData\\Local\\Continuum\\miniconda3\\envs\\becoming-data-scientist\\lib\\site-packages\\ipytest\\_pytest_support.py\u001b[0m in \u001b[0;36m_valid_filename\u001b[1;34m(filename, module)\u001b[0m\n\u001b[0;32m    121\u001b[0m     \u001b[1;32mif\u001b[0m \u001b[1;32mnot\u001b[0m \u001b[0mconfig\u001b[0m\u001b[1;33m.\u001b[0m\u001b[0mtempfile_fallback\u001b[0m\u001b[1;33m:\u001b[0m\u001b[1;33m\u001b[0m\u001b[1;33m\u001b[0m\u001b[0m\n\u001b[0;32m    122\u001b[0m         raise ValueError(\n\u001b[1;32m--> 123\u001b[1;33m             \u001b[1;34m\"module {} has no valid __file__, please pass filename instead.\"\u001b[0m\u001b[1;33m\u001b[0m\u001b[1;33m\u001b[0m\u001b[0m\n\u001b[0m\u001b[0;32m    124\u001b[0m         )\n\u001b[0;32m    125\u001b[0m \u001b[1;33m\u001b[0m\u001b[0m\n",
      "\u001b[1;31mValueError\u001b[0m: module {} has no valid __file__, please pass filename instead."
     ]
    }
   ],
   "source": [
    "import ipynb.fs.full.overview1"
   ]
  },
  {
   "cell_type": "code",
   "execution_count": null,
   "metadata": {},
   "outputs": [],
   "source": []
  }
 ],
 "metadata": {
  "kernelspec": {
   "display_name": "Python 3",
   "language": "python",
   "name": "python3"
  },
  "language_info": {
   "codemirror_mode": {
    "name": "ipython",
    "version": 3
   },
   "file_extension": ".py",
   "mimetype": "text/x-python",
   "name": "python",
   "nbconvert_exporter": "python",
   "pygments_lexer": "ipython3",
   "version": "3.7.3"
  }
 },
 "nbformat": 4,
 "nbformat_minor": 2
}
