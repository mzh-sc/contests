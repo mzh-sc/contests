{
 "nbformat": 4,
 "nbformat_minor": 2,
 "metadata": {
  "language_info": {
   "name": "python",
   "codemirror_mode": {
    "name": "ipython",
    "version": 3
   },
   "version": "3.7.3"
  },
  "orig_nbformat": 2,
  "file_extension": ".py",
  "mimetype": "text/x-python",
  "name": "python",
  "npconvert_exporter": "python",
  "pygments_lexer": "ipython3",
  "version": 3
 },
 "cells": [
  {
   "cell_type": "code",
   "execution_count": 1,
   "metadata": {},
   "outputs": [],
   "source": [
    "%load_ext autoreload\n",
    "%autoreload 1"
   ]
  },
  {
   "cell_type": "code",
   "execution_count": 2,
   "metadata": {},
   "outputs": [
    {
     "data": {
      "image/png": "[encoded data removed]",
      "image/svg+xml": "<?xml version=\"1.0\" encoding=\"utf-8\" standalone=\"no\"?>\r\n<!DOCTYPE svg PUBLIC \"-//W3C//DTD SVG 1.1//EN\"\r\n  \"http://www.w3.org/Graphics/SVG/1.1/DTD/svg11.dtd\">\r\n<!-- Created with matplotlib (https://matplotlib.org/) -->\r\n<svg height=\"55.17pt\" version=\"1.1\" viewBox=\"0 0 474.75 55.17\" width=\"474.75pt\" xmlns=\"http://www.w3.org/2000/svg\" xmlns:xlink=\"http://www.w3.org/1999/xlink\">\r\n <defs>\r\n  <style type=\"text/css\">\r\n*{stroke-linecap:butt;stroke-linejoin:round;}\r\n  </style>\r\n </defs>\r\n <g id=\"figure_1\">\r\n  <g id=\"patch_1\">\r\n   <path d=\"M 0 55.17 \r\nL 474.75 55.17 \r\nL 474.75 0 \r\nL 0 0 \r\nz\r\n\" style=\"fill:#ffffff;\"/>\r\n  </g>\r\n  <g id=\"axes_1\">\r\n   <g id=\"patch_2\">\r\n    <path d=\"M 7.2 47.97 \r\nL 467.55 47.97 \r\nL 467.55 7.2 \r\nL 7.2 7.2 \r\nz\r\n\" style=\"fill:#ffffff;\"/>\r\n   </g>\r\n   <g id=\"matplotlib.axis_1\"/>\r\n   <g id=\"matplotlib.axis_2\"/>\r\n   <g id=\"QuadMesh_1\">\r\n    <path clip-path=\"url(#p596c6ca285)\" d=\"M 7.2 47.97 \r\nL 8.998242 47.97 \r\nL 8.998242 7.2 \r\nL 7.2 7.2 \r\nL 7.2 47.97 \r\n\" style=\"fill:#407f93;\"/>\r\n    <path clip-path=\"url(#p596c6ca285)\" d=\"M 8.998242 47.97 \r\nL 10.796484 47.97 \r\nL 10.796484 7.2 \r\nL 8.998242 7.2 \r\nL 8.998242 47.97 \r\n\" style=\"fill:#428093;\"/>\r\n    <path clip-path=\"url(#p596c6ca285)\" d=\"M 10.796484 47.97 \r\nL 12.594727 47.97 \r\nL 12.594727 7.2 \r\nL 10.796484 7.2 \r\nL 10.796484 47.97 \r\n\" style=\"fill:#438194;\"/>\r\n    <path clip-path=\"url(#p596c6ca285)\" d=\"M 12.594727 47.97 \r\nL 14.392969 47.97 \r\nL 14.392969 7.2 \r\nL 12.594727 7.2 \r\nL 12.594727 47.97 \r\n\" style=\"fill:#448295;\"/>\r\n    <path clip-path=\"url(#p596c6ca285)\" d=\"M 14.392969 47.97 \r\nL 16.191211 47.97 \r\nL 16.191211 7.2 \r\nL 14.392969 7.2 \r\nL 14.392969 47.97 \r\n\" style=\"fill:#468396;\"/>\r\n    <path clip-path=\"url(#p596c6ca285)\" d=\"M 16.191211 47.97 \r\nL 17.989453 47.97 \r\nL 17.989453 7.2 \r\nL 16.191211 7.2 \r\nL 16.191211 47.97 \r\n\" style=\"fill:#478497;\"/>\r\n    <path clip-path=\"url(#p596c6ca285)\" d=\"M 17.989453 47.97 \r\nL 19.787695 47.97 \r\nL 19.787695 7.2 \r\nL 17.989453 7.2 \r\nL 17.989453 47.97 \r\n\" style=\"fill:#488597;\"/>\r\n    <path clip-path=\"url(#p596c6ca285)\" d=\"M 19.787695 47.97 \r\nL 21.585938 47.97 \r\nL 21.585938 7.2 \r\nL 19.787695 7.2 \r\nL 19.787695 47.97 \r\n\" style=\"fill:#4a8698;\"/>\r\n    <path clip-path=\"url(#p596c6ca285)\" d=\"M 21.585938 47.97 \r\nL 23.38418 47.97 \r\nL 23.38418 7.2 \r\nL 21.585938 7.2 \r\nL 21.585938 47.97 \r\n\" style=\"fill:#4b8799;\"/>\r\n    <path clip-path=\"url(#p596c6ca285)\" d=\"M 23.38418 47.97 \r\nL 25.182422 47.97 \r\nL 25.182422 7.2 \r\nL 23.38418 7.2 \r\nL 23.38418 47.97 \r\n\" style=\"fill:#4c879a;\"/>\r\n    <path clip-path=\"url(#p596c6ca285)\" d=\"M 25.182422 47.97 \r\nL 26.980664 47.97 \r\nL 26.980664 7.2 \r\nL 25.182422 7.2 \r\nL 25.182422 47.97 \r\n\" style=\"fill:#4e889b;\"/>\r\n    <path clip-path=\"url(#p596c6ca285)\" d=\"M 26.980664 47.97 \r\nL 28.778906 47.97 \r\nL 28.778906 7.2 \r\nL 26.980664 7.2 \r\nL 26.980664 47.97 \r\n\" style=\"fill:#508a9c;\"/>\r\n    <path clip-path=\"url(#p596c6ca285)\" d=\"M 28.778906 47.97 \r\nL 30.577148 47.97 \r\nL 30.577148 7.2 \r\nL 28.778906 7.2 \r\nL 28.778906 47.97 \r\n\" style=\"fill:#518b9d;\"/>\r\n    <path clip-path=\"url(#p596c6ca285)\" d=\"M 30.577148 47.97 \r\nL 32.375391 47.97 \r\nL 32.375391 7.2 \r\nL 30.577148 7.2 \r\nL 30.577148 47.97 \r\n\" style=\"fill:#538c9d;\"/>\r\n    <path clip-path=\"url(#p596c6ca285)\" d=\"M 32.375391 47.97 \r\nL 34.173633 47.97 \r\nL 34.173633 7.2 \r\nL 32.375391 7.2 \r\nL 32.375391 47.97 \r\n\" style=\"fill:#548d9e;\"/>\r\n    <path clip-path=\"url(#p596c6ca285)\" d=\"M 34.173633 47.97 \r\nL 35.971875 47.97 \r\nL 35.971875 7.2 \r\nL 34.173633 7.2 \r\nL 34.173633 47.97 \r\n\" style=\"fill:#558d9f;\"/>\r\n    <path clip-path=\"url(#p596c6ca285)\" d=\"M 35.971875 47.97 \r\nL 37.770117 47.97 \r\nL 37.770117 7.2 \r\nL 35.971875 7.2 \r\nL 35.971875 47.97 \r\n\" style=\"fill:#578ea0;\"/>\r\n    <path clip-path=\"url(#p596c6ca285)\" d=\"M 37.770117 47.97 \r\nL 39.568359 47.97 \r\nL 39.568359 7.2 \r\nL 37.770117 7.2 \r\nL 37.770117 47.97 \r\n\" style=\"fill:#588fa0;\"/>\r\n    <path clip-path=\"url(#p596c6ca285)\" d=\"M 39.568359 47.97 \r\nL 41.366602 47.97 \r\nL 41.366602 7.2 \r\nL 39.568359 7.2 \r\nL 39.568359 47.97 \r\n\" style=\"fill:#5990a1;\"/>\r\n    <path clip-path=\"url(#p596c6ca285)\" d=\"M 41.366602 47.97 \r\nL 43.164844 47.97 \r\nL 43.164844 7.2 \r\nL 41.366602 7.2 \r\nL 41.366602 47.97 \r\n\" style=\"fill:#5b91a2;\"/>\r\n    <path clip-path=\"url(#p596c6ca285)\" d=\"M 43.164844 47.97 \r\nL 44.963086 47.97 \r\nL 44.963086 7.2 \r\nL 43.164844 7.2 \r\nL 43.164844 47.97 \r\n\" style=\"fill:#5c92a3;\"/>\r\n    <path clip-path=\"url(#p596c6ca285)\" d=\"M 44.963086 47.97 \r\nL 46.761328 47.97 \r\nL 46.761328 7.2 \r\nL 44.963086 7.2 \r\nL 44.963086 47.97 \r\n\" style=\"fill:#5e93a4;\"/>\r\n    <path clip-path=\"url(#p596c6ca285)\" d=\"M 46.761328 47.97 \r\nL 48.55957 47.97 \r\nL 48.55957 7.2 \r\nL 46.761328 7.2 \r\nL 46.761328 47.97 \r\n\" style=\"fill:#5f94a5;\"/>\r\n    <path clip-path=\"url(#p596c6ca285)\" d=\"M 48.55957 47.97 \r\nL 50.357813 47.97 \r\nL 50.357813 7.2 \r\nL 48.55957 7.2 \r\nL 48.55957 47.97 \r\n\" style=\"fill:#6195a6;\"/>\r\n    <path clip-path=\"url(#p596c6ca285)\" d=\"M 50.357813 47.97 \r\nL 52.156055 47.97 \r\nL 52.156055 7.2 \r\nL 50.357813 7.2 \r\nL 50.357813 47.97 \r\n\" style=\"fill:#6296a6;\"/>\r\n    <path clip-path=\"url(#p596c6ca285)\" d=\"M 52.156055 47.97 \r\nL 53.954297 47.97 \r\nL 53.954297 7.2 \r\nL 52.156055 7.2 \r\nL 52.156055 47.97 \r\n\" style=\"fill:#6497a7;\"/>\r\n    <path clip-path=\"url(#p596c6ca285)\" d=\"M 53.954297 47.97 \r\nL 55.752539 47.97 \r\nL 55.752539 7.2 \r\nL 53.954297 7.2 \r\nL 53.954297 47.97 \r\n\" style=\"fill:#6598a8;\"/>\r\n    <path clip-path=\"url(#p596c6ca285)\" d=\"M 55.752539 47.97 \r\nL 57.550781 47.97 \r\nL 57.550781 7.2 \r\nL 55.752539 7.2 \r\nL 55.752539 47.97 \r\n\" style=\"fill:#6699a9;\"/>\r\n    <path clip-path=\"url(#p596c6ca285)\" d=\"M 57.550781 47.97 \r\nL 59.349023 47.97 \r\nL 59.349023 7.2 \r\nL 57.550781 7.2 \r\nL 57.550781 47.97 \r\n\" style=\"fill:#689aaa;\"/>\r\n    <path clip-path=\"url(#p596c6ca285)\" d=\"M 59.349023 47.97 \r\nL 61.147266 47.97 \r\nL 61.147266 7.2 \r\nL 59.349023 7.2 \r\nL 59.349023 47.97 \r\n\" style=\"fill:#699baa;\"/>\r\n    <path clip-path=\"url(#p596c6ca285)\" d=\"M 61.147266 47.97 \r\nL 62.945508 47.97 \r\nL 62.945508 7.2 \r\nL 61.147266 7.2 \r\nL 61.147266 47.97 \r\n\" style=\"fill:#6a9cab;\"/>\r\n    <path clip-path=\"url(#p596c6ca285)\" d=\"M 62.945508 47.97 \r\nL 64.74375 47.97 \r\nL 64.74375 7.2 \r\nL 62.945508 7.2 \r\nL 62.945508 47.97 \r\n\" style=\"fill:#6c9dac;\"/>\r\n    <path clip-path=\"url(#p596c6ca285)\" d=\"M 64.74375 47.97 \r\nL 66.541992 47.97 \r\nL 66.541992 7.2 \r\nL 64.74375 7.2 \r\nL 64.74375 47.97 \r\n\" style=\"fill:#6e9ead;\"/>\r\n    <path clip-path=\"url(#p596c6ca285)\" d=\"M 66.541992 47.97 \r\nL 68.340234 47.97 \r\nL 68.340234 7.2 \r\nL 66.541992 7.2 \r\nL 66.541992 47.97 \r\n\" style=\"fill:#6f9fae;\"/>\r\n    <path clip-path=\"url(#p596c6ca285)\" d=\"M 68.340234 47.97 \r\nL 70.138477 47.97 \r\nL 70.138477 7.2 \r\nL 68.340234 7.2 \r\nL 68.340234 47.97 \r\n\" style=\"fill:#70a0af;\"/>\r\n    <path clip-path=\"url(#p596c6ca285)\" d=\"M 70.138477 47.97 \r\nL 71.936719 47.97 \r\nL 71.936719 7.2 \r\nL 70.138477 7.2 \r\nL 70.138477 47.97 \r\n\" style=\"fill:#72a1af;\"/>\r\n    <path clip-path=\"url(#p596c6ca285)\" d=\"M 71.936719 47.97 \r\nL 73.734961 47.97 \r\nL 73.734961 7.2 \r\nL 71.936719 7.2 \r\nL 71.936719 47.97 \r\n\" style=\"fill:#73a2b0;\"/>\r\n    <path clip-path=\"url(#p596c6ca285)\" d=\"M 73.734961 47.97 \r\nL 75.533203 47.97 \r\nL 75.533203 7.2 \r\nL 73.734961 7.2 \r\nL 73.734961 47.97 \r\n\" style=\"fill:#75a3b1;\"/>\r\n    <path clip-path=\"url(#p596c6ca285)\" d=\"M 75.533203 47.97 \r\nL 77.331445 47.97 \r\nL 77.331445 7.2 \r\nL 75.533203 7.2 \r\nL 75.533203 47.97 \r\n\" style=\"fill:#76a4b2;\"/>\r\n    <path clip-path=\"url(#p596c6ca285)\" d=\"M 77.331445 47.97 \r\nL 79.129688 47.97 \r\nL 79.129688 7.2 \r\nL 77.331445 7.2 \r\nL 77.331445 47.97 \r\n\" style=\"fill:#77a5b3;\"/>\r\n    <path clip-path=\"url(#p596c6ca285)\" d=\"M 79.129688 47.97 \r\nL 80.92793 47.97 \r\nL 80.92793 7.2 \r\nL 79.129688 7.2 \r\nL 79.129688 47.97 \r\n\" style=\"fill:#79a5b3;\"/>\r\n    <path clip-path=\"url(#p596c6ca285)\" d=\"M 80.92793 47.97 \r\nL 82.726172 47.97 \r\nL 82.726172 7.2 \r\nL 80.92793 7.2 \r\nL 80.92793 47.97 \r\n\" style=\"fill:#7ba7b5;\"/>\r\n    <path clip-path=\"url(#p596c6ca285)\" d=\"M 82.726172 47.97 \r\nL 84.524414 47.97 \r\nL 84.524414 7.2 \r\nL 82.726172 7.2 \r\nL 82.726172 47.97 \r\n\" style=\"fill:#7ca8b5;\"/>\r\n    <path clip-path=\"url(#p596c6ca285)\" d=\"M 84.524414 47.97 \r\nL 86.322656 47.97 \r\nL 86.322656 7.2 \r\nL 84.524414 7.2 \r\nL 84.524414 47.97 \r\n\" style=\"fill:#7da9b6;\"/>\r\n    <path clip-path=\"url(#p596c6ca285)\" d=\"M 86.322656 47.97 \r\nL 88.120898 47.97 \r\nL 88.120898 7.2 \r\nL 86.322656 7.2 \r\nL 86.322656 47.97 \r\n\" style=\"fill:#7faab7;\"/>\r\n    <path clip-path=\"url(#p596c6ca285)\" d=\"M 88.120898 47.97 \r\nL 89.919141 47.97 \r\nL 89.919141 7.2 \r\nL 88.120898 7.2 \r\nL 88.120898 47.97 \r\n\" style=\"fill:#80abb8;\"/>\r\n    <path clip-path=\"url(#p596c6ca285)\" d=\"M 89.919141 47.97 \r\nL 91.717383 47.97 \r\nL 91.717383 7.2 \r\nL 89.919141 7.2 \r\nL 89.919141 47.97 \r\n\" style=\"fill:#81abb9;\"/>\r\n    <path clip-path=\"url(#p596c6ca285)\" d=\"M 91.717383 47.97 \r\nL 93.515625 47.97 \r\nL 93.515625 7.2 \r\nL 91.717383 7.2 \r\nL 91.717383 47.97 \r\n\" style=\"fill:#83acb9;\"/>\r\n    <path clip-path=\"url(#p596c6ca285)\" d=\"M 93.515625 47.97 \r\nL 95.313867 47.97 \r\nL 95.313867 7.2 \r\nL 93.515625 7.2 \r\nL 93.515625 47.97 \r\n\" style=\"fill:#84adba;\"/>\r\n    <path clip-path=\"url(#p596c6ca285)\" d=\"M 95.313867 47.97 \r\nL 97.112109 47.97 \r\nL 97.112109 7.2 \r\nL 95.313867 7.2 \r\nL 95.313867 47.97 \r\n\" style=\"fill:#85aebb;\"/>\r\n    <path clip-path=\"url(#p596c6ca285)\" d=\"M 97.112109 47.97 \r\nL 98.910352 47.97 \r\nL 98.910352 7.2 \r\nL 97.112109 7.2 \r\nL 97.112109 47.97 \r\n\" style=\"fill:#87afbc;\"/>\r\n    <path clip-path=\"url(#p596c6ca285)\" d=\"M 98.910352 47.97 \r\nL 100.708594 47.97 \r\nL 100.708594 7.2 \r\nL 98.910352 7.2 \r\nL 98.910352 47.97 \r\n\" style=\"fill:#89b1bd;\"/>\r\n    <path clip-path=\"url(#p596c6ca285)\" d=\"M 100.708594 47.97 \r\nL 102.506836 47.97 \r\nL 102.506836 7.2 \r\nL 100.708594 7.2 \r\nL 100.708594 47.97 \r\n\" style=\"fill:#8ab1be;\"/>\r\n    <path clip-path=\"url(#p596c6ca285)\" d=\"M 102.506836 47.97 \r\nL 104.305078 47.97 \r\nL 104.305078 7.2 \r\nL 102.506836 7.2 \r\nL 102.506836 47.97 \r\n\" style=\"fill:#8cb2be;\"/>\r\n    <path clip-path=\"url(#p596c6ca285)\" d=\"M 104.305078 47.97 \r\nL 106.10332 47.97 \r\nL 106.10332 7.2 \r\nL 104.305078 7.2 \r\nL 104.305078 47.97 \r\n\" style=\"fill:#8db3bf;\"/>\r\n    <path clip-path=\"url(#p596c6ca285)\" d=\"M 106.10332 47.97 \r\nL 107.901563 47.97 \r\nL 107.901563 7.2 \r\nL 106.10332 7.2 \r\nL 106.10332 47.97 \r\n\" style=\"fill:#8eb4c0;\"/>\r\n    <path clip-path=\"url(#p596c6ca285)\" d=\"M 107.901563 47.97 \r\nL 109.699805 47.97 \r\nL 109.699805 7.2 \r\nL 107.901563 7.2 \r\nL 107.901563 47.97 \r\n\" style=\"fill:#90b5c1;\"/>\r\n    <path clip-path=\"url(#p596c6ca285)\" d=\"M 109.699805 47.97 \r\nL 111.498047 47.97 \r\nL 111.498047 7.2 \r\nL 109.699805 7.2 \r\nL 109.699805 47.97 \r\n\" style=\"fill:#91b6c2;\"/>\r\n    <path clip-path=\"url(#p596c6ca285)\" d=\"M 111.498047 47.97 \r\nL 113.296289 47.97 \r\nL 113.296289 7.2 \r\nL 111.498047 7.2 \r\nL 111.498047 47.97 \r\n\" style=\"fill:#92b7c2;\"/>\r\n    <path clip-path=\"url(#p596c6ca285)\" d=\"M 113.296289 47.97 \r\nL 115.094531 47.97 \r\nL 115.094531 7.2 \r\nL 113.296289 7.2 \r\nL 113.296289 47.97 \r\n\" style=\"fill:#94b8c3;\"/>\r\n    <path clip-path=\"url(#p596c6ca285)\" d=\"M 115.094531 47.97 \r\nL 116.892773 47.97 \r\nL 116.892773 7.2 \r\nL 115.094531 7.2 \r\nL 115.094531 47.97 \r\n\" style=\"fill:#95b9c4;\"/>\r\n    <path clip-path=\"url(#p596c6ca285)\" d=\"M 116.892773 47.97 \r\nL 118.691016 47.97 \r\nL 118.691016 7.2 \r\nL 116.892773 7.2 \r\nL 116.892773 47.97 \r\n\" style=\"fill:#97bac5;\"/>\r\n    <path clip-path=\"url(#p596c6ca285)\" d=\"M 118.691016 47.97 \r\nL 120.489258 47.97 \r\nL 120.489258 7.2 \r\nL 118.691016 7.2 \r\nL 118.691016 47.97 \r\n\" style=\"fill:#98bbc6;\"/>\r\n    <path clip-path=\"url(#p596c6ca285)\" d=\"M 120.489258 47.97 \r\nL 122.2875 47.97 \r\nL 122.2875 7.2 \r\nL 120.489258 7.2 \r\nL 120.489258 47.97 \r\n\" style=\"fill:#9abcc7;\"/>\r\n    <path clip-path=\"url(#p596c6ca285)\" d=\"M 122.2875 47.97 \r\nL 124.085742 47.97 \r\nL 124.085742 7.2 \r\nL 122.2875 7.2 \r\nL 122.2875 47.97 \r\n\" style=\"fill:#9bbdc8;\"/>\r\n    <path clip-path=\"url(#p596c6ca285)\" d=\"M 124.085742 47.97 \r\nL 125.883984 47.97 \r\nL 125.883984 7.2 \r\nL 124.085742 7.2 \r\nL 124.085742 47.97 \r\n\" style=\"fill:#9dbec8;\"/>\r\n    <path clip-path=\"url(#p596c6ca285)\" d=\"M 125.883984 47.97 \r\nL 127.682227 47.97 \r\nL 127.682227 7.2 \r\nL 125.883984 7.2 \r\nL 125.883984 47.97 \r\n\" style=\"fill:#9ebfc9;\"/>\r\n    <path clip-path=\"url(#p596c6ca285)\" d=\"M 127.682227 47.97 \r\nL 129.480469 47.97 \r\nL 129.480469 7.2 \r\nL 127.682227 7.2 \r\nL 127.682227 47.97 \r\n\" style=\"fill:#9fc0ca;\"/>\r\n    <path clip-path=\"url(#p596c6ca285)\" d=\"M 129.480469 47.97 \r\nL 131.278711 47.97 \r\nL 131.278711 7.2 \r\nL 129.480469 7.2 \r\nL 129.480469 47.97 \r\n\" style=\"fill:#a1c1cb;\"/>\r\n    <path clip-path=\"url(#p596c6ca285)\" d=\"M 131.278711 47.97 \r\nL 133.076953 47.97 \r\nL 133.076953 7.2 \r\nL 131.278711 7.2 \r\nL 131.278711 47.97 \r\n\" style=\"fill:#a2c2cb;\"/>\r\n    <path clip-path=\"url(#p596c6ca285)\" d=\"M 133.076953 47.97 \r\nL 134.875195 47.97 \r\nL 134.875195 7.2 \r\nL 133.076953 7.2 \r\nL 133.076953 47.97 \r\n\" style=\"fill:#a3c3cc;\"/>\r\n    <path clip-path=\"url(#p596c6ca285)\" d=\"M 134.875195 47.97 \r\nL 136.673438 47.97 \r\nL 136.673438 7.2 \r\nL 134.875195 7.2 \r\nL 134.875195 47.97 \r\n\" style=\"fill:#a5c3cd;\"/>\r\n    <path clip-path=\"url(#p596c6ca285)\" d=\"M 136.673438 47.97 \r\nL 138.47168 47.97 \r\nL 138.47168 7.2 \r\nL 136.673438 7.2 \r\nL 136.673438 47.97 \r\n\" style=\"fill:#a7c5ce;\"/>\r\n    <path clip-path=\"url(#p596c6ca285)\" d=\"M 138.47168 47.97 \r\nL 140.269922 47.97 \r\nL 140.269922 7.2 \r\nL 138.47168 7.2 \r\nL 138.47168 47.97 \r\n\" style=\"fill:#a8c6cf;\"/>\r\n    <path clip-path=\"url(#p596c6ca285)\" d=\"M 140.269922 47.97 \r\nL 142.068164 47.97 \r\nL 142.068164 7.2 \r\nL 140.269922 7.2 \r\nL 140.269922 47.97 \r\n\" style=\"fill:#a9c7d0;\"/>\r\n    <path clip-path=\"url(#p596c6ca285)\" d=\"M 142.068164 47.97 \r\nL 143.866406 47.97 \r\nL 143.866406 7.2 \r\nL 142.068164 7.2 \r\nL 142.068164 47.97 \r\n\" style=\"fill:#abc8d1;\"/>\r\n    <path clip-path=\"url(#p596c6ca285)\" d=\"M 143.866406 47.97 \r\nL 145.664648 47.97 \r\nL 145.664648 7.2 \r\nL 143.866406 7.2 \r\nL 143.866406 47.97 \r\n\" style=\"fill:#acc9d1;\"/>\r\n    <path clip-path=\"url(#p596c6ca285)\" d=\"M 145.664648 47.97 \r\nL 147.462891 47.97 \r\nL 147.462891 7.2 \r\nL 145.664648 7.2 \r\nL 145.664648 47.97 \r\n\" style=\"fill:#adc9d2;\"/>\r\n    <path clip-path=\"url(#p596c6ca285)\" d=\"M 147.462891 47.97 \r\nL 149.261133 47.97 \r\nL 149.261133 7.2 \r\nL 147.462891 7.2 \r\nL 147.462891 47.97 \r\n\" style=\"fill:#afcad3;\"/>\r\n    <path clip-path=\"url(#p596c6ca285)\" d=\"M 149.261133 47.97 \r\nL 151.059375 47.97 \r\nL 151.059375 7.2 \r\nL 149.261133 7.2 \r\nL 149.261133 47.97 \r\n\" style=\"fill:#b0cbd4;\"/>\r\n    <path clip-path=\"url(#p596c6ca285)\" d=\"M 151.059375 47.97 \r\nL 152.857617 47.97 \r\nL 152.857617 7.2 \r\nL 151.059375 7.2 \r\nL 151.059375 47.97 \r\n\" style=\"fill:#b2ccd5;\"/>\r\n    <path clip-path=\"url(#p596c6ca285)\" d=\"M 152.857617 47.97 \r\nL 154.655859 47.97 \r\nL 154.655859 7.2 \r\nL 152.857617 7.2 \r\nL 152.857617 47.97 \r\n\" style=\"fill:#b3cdd5;\"/>\r\n    <path clip-path=\"url(#p596c6ca285)\" d=\"M 154.655859 47.97 \r\nL 156.454102 47.97 \r\nL 156.454102 7.2 \r\nL 154.655859 7.2 \r\nL 154.655859 47.97 \r\n\" style=\"fill:#b5cfd6;\"/>\r\n    <path clip-path=\"url(#p596c6ca285)\" d=\"M 156.454102 47.97 \r\nL 158.252344 47.97 \r\nL 158.252344 7.2 \r\nL 156.454102 7.2 \r\nL 156.454102 47.97 \r\n\" style=\"fill:#b6cfd7;\"/>\r\n    <path clip-path=\"url(#p596c6ca285)\" d=\"M 158.252344 47.97 \r\nL 160.050586 47.97 \r\nL 160.050586 7.2 \r\nL 158.252344 7.2 \r\nL 158.252344 47.97 \r\n\" style=\"fill:#b8d0d8;\"/>\r\n    <path clip-path=\"url(#p596c6ca285)\" d=\"M 160.050586 47.97 \r\nL 161.848828 47.97 \r\nL 161.848828 7.2 \r\nL 160.050586 7.2 \r\nL 160.050586 47.97 \r\n\" style=\"fill:#b9d1d9;\"/>\r\n    <path clip-path=\"url(#p596c6ca285)\" d=\"M 161.848828 47.97 \r\nL 163.64707 47.97 \r\nL 163.64707 7.2 \r\nL 161.848828 7.2 \r\nL 161.848828 47.97 \r\n\" style=\"fill:#bad2da;\"/>\r\n    <path clip-path=\"url(#p596c6ca285)\" d=\"M 163.64707 47.97 \r\nL 165.445312 47.97 \r\nL 165.445312 7.2 \r\nL 163.64707 7.2 \r\nL 163.64707 47.97 \r\n\" style=\"fill:#bcd3da;\"/>\r\n    <path clip-path=\"url(#p596c6ca285)\" d=\"M 165.445312 47.97 \r\nL 167.243555 47.97 \r\nL 167.243555 7.2 \r\nL 165.445312 7.2 \r\nL 165.445312 47.97 \r\n\" style=\"fill:#bdd4db;\"/>\r\n    <path clip-path=\"url(#p596c6ca285)\" d=\"M 167.243555 47.97 \r\nL 169.041797 47.97 \r\nL 169.041797 7.2 \r\nL 167.243555 7.2 \r\nL 167.243555 47.97 \r\n\" style=\"fill:#bed5dc;\"/>\r\n    <path clip-path=\"url(#p596c6ca285)\" d=\"M 169.041797 47.97 \r\nL 170.840039 47.97 \r\nL 170.840039 7.2 \r\nL 169.041797 7.2 \r\nL 169.041797 47.97 \r\n\" style=\"fill:#c0d6dd;\"/>\r\n    <path clip-path=\"url(#p596c6ca285)\" d=\"M 170.840039 47.97 \r\nL 172.638281 47.97 \r\nL 172.638281 7.2 \r\nL 170.840039 7.2 \r\nL 170.840039 47.97 \r\n\" style=\"fill:#c1d7de;\"/>\r\n    <path clip-path=\"url(#p596c6ca285)\" d=\"M 172.638281 47.97 \r\nL 174.436523 47.97 \r\nL 174.436523 7.2 \r\nL 172.638281 7.2 \r\nL 172.638281 47.97 \r\n\" style=\"fill:#c3d8df;\"/>\r\n    <path clip-path=\"url(#p596c6ca285)\" d=\"M 174.436523 47.97 \r\nL 176.234766 47.97 \r\nL 176.234766 7.2 \r\nL 174.436523 7.2 \r\nL 174.436523 47.97 \r\n\" style=\"fill:#c5d9e0;\"/>\r\n    <path clip-path=\"url(#p596c6ca285)\" d=\"M 176.234766 47.97 \r\nL 178.033008 47.97 \r\nL 178.033008 7.2 \r\nL 176.234766 7.2 \r\nL 176.234766 47.97 \r\n\" style=\"fill:#c6dae0;\"/>\r\n    <path clip-path=\"url(#p596c6ca285)\" d=\"M 178.033008 47.97 \r\nL 179.83125 47.97 \r\nL 179.83125 7.2 \r\nL 178.033008 7.2 \r\nL 178.033008 47.97 \r\n\" style=\"fill:#c7dbe1;\"/>\r\n    <path clip-path=\"url(#p596c6ca285)\" d=\"M 179.83125 47.97 \r\nL 181.629492 47.97 \r\nL 181.629492 7.2 \r\nL 179.83125 7.2 \r\nL 179.83125 47.97 \r\n\" style=\"fill:#c9dce2;\"/>\r\n    <path clip-path=\"url(#p596c6ca285)\" d=\"M 181.629492 47.97 \r\nL 183.427734 47.97 \r\nL 183.427734 7.2 \r\nL 181.629492 7.2 \r\nL 181.629492 47.97 \r\n\" style=\"fill:#cadde3;\"/>\r\n    <path clip-path=\"url(#p596c6ca285)\" d=\"M 183.427734 47.97 \r\nL 185.225977 47.97 \r\nL 185.225977 7.2 \r\nL 183.427734 7.2 \r\nL 183.427734 47.97 \r\n\" style=\"fill:#cbdee4;\"/>\r\n    <path clip-path=\"url(#p596c6ca285)\" d=\"M 185.225977 47.97 \r\nL 187.024219 47.97 \r\nL 187.024219 7.2 \r\nL 185.225977 7.2 \r\nL 185.225977 47.97 \r\n\" style=\"fill:#cddfe4;\"/>\r\n    <path clip-path=\"url(#p596c6ca285)\" d=\"M 187.024219 47.97 \r\nL 188.822461 47.97 \r\nL 188.822461 7.2 \r\nL 187.024219 7.2 \r\nL 187.024219 47.97 \r\n\" style=\"fill:#cee0e5;\"/>\r\n    <path clip-path=\"url(#p596c6ca285)\" d=\"M 188.822461 47.97 \r\nL 190.620703 47.97 \r\nL 190.620703 7.2 \r\nL 188.822461 7.2 \r\nL 188.822461 47.97 \r\n\" style=\"fill:#cfe1e6;\"/>\r\n    <path clip-path=\"url(#p596c6ca285)\" d=\"M 190.620703 47.97 \r\nL 192.418945 47.97 \r\nL 192.418945 7.2 \r\nL 190.620703 7.2 \r\nL 190.620703 47.97 \r\n\" style=\"fill:#d1e2e7;\"/>\r\n    <path clip-path=\"url(#p596c6ca285)\" d=\"M 192.418945 47.97 \r\nL 194.217188 47.97 \r\nL 194.217188 7.2 \r\nL 192.418945 7.2 \r\nL 192.418945 47.97 \r\n\" style=\"fill:#d3e3e8;\"/>\r\n    <path clip-path=\"url(#p596c6ca285)\" d=\"M 194.217188 47.97 \r\nL 196.01543 47.97 \r\nL 196.01543 7.2 \r\nL 194.217188 7.2 \r\nL 194.217188 47.97 \r\n\" style=\"fill:#d4e4e9;\"/>\r\n    <path clip-path=\"url(#p596c6ca285)\" d=\"M 196.01543 47.97 \r\nL 197.813672 47.97 \r\nL 197.813672 7.2 \r\nL 196.01543 7.2 \r\nL 196.01543 47.97 \r\n\" style=\"fill:#d6e5e9;\"/>\r\n    <path clip-path=\"url(#p596c6ca285)\" d=\"M 197.813672 47.97 \r\nL 199.611914 47.97 \r\nL 199.611914 7.2 \r\nL 197.813672 7.2 \r\nL 197.813672 47.97 \r\n\" style=\"fill:#d7e6ea;\"/>\r\n    <path clip-path=\"url(#p596c6ca285)\" d=\"M 199.611914 47.97 \r\nL 201.410156 47.97 \r\nL 201.410156 7.2 \r\nL 199.611914 7.2 \r\nL 199.611914 47.97 \r\n\" style=\"fill:#d8e7eb;\"/>\r\n    <path clip-path=\"url(#p596c6ca285)\" d=\"M 201.410156 47.97 \r\nL 203.208398 47.97 \r\nL 203.208398 7.2 \r\nL 201.410156 7.2 \r\nL 201.410156 47.97 \r\n\" style=\"fill:#dae7ec;\"/>\r\n    <path clip-path=\"url(#p596c6ca285)\" d=\"M 203.208398 47.97 \r\nL 205.006641 47.97 \r\nL 205.006641 7.2 \r\nL 203.208398 7.2 \r\nL 203.208398 47.97 \r\n\" style=\"fill:#dbe8ed;\"/>\r\n    <path clip-path=\"url(#p596c6ca285)\" d=\"M 205.006641 47.97 \r\nL 206.804883 47.97 \r\nL 206.804883 7.2 \r\nL 205.006641 7.2 \r\nL 205.006641 47.97 \r\n\" style=\"fill:#dce9ed;\"/>\r\n    <path clip-path=\"url(#p596c6ca285)\" d=\"M 206.804883 47.97 \r\nL 208.603125 47.97 \r\nL 208.603125 7.2 \r\nL 206.804883 7.2 \r\nL 206.804883 47.97 \r\n\" style=\"fill:#deeaee;\"/>\r\n    <path clip-path=\"url(#p596c6ca285)\" d=\"M 208.603125 47.97 \r\nL 210.401367 47.97 \r\nL 210.401367 7.2 \r\nL 208.603125 7.2 \r\nL 208.603125 47.97 \r\n\" style=\"fill:#e0ecef;\"/>\r\n    <path clip-path=\"url(#p596c6ca285)\" d=\"M 210.401367 47.97 \r\nL 212.199609 47.97 \r\nL 212.199609 7.2 \r\nL 210.401367 7.2 \r\nL 210.401367 47.97 \r\n\" style=\"fill:#e1edf0;\"/>\r\n    <path clip-path=\"url(#p596c6ca285)\" d=\"M 212.199609 47.97 \r\nL 213.997852 47.97 \r\nL 213.997852 7.2 \r\nL 212.199609 7.2 \r\nL 212.199609 47.97 \r\n\" style=\"fill:#e2edf1;\"/>\r\n    <path clip-path=\"url(#p596c6ca285)\" d=\"M 213.997852 47.97 \r\nL 215.796094 47.97 \r\nL 215.796094 7.2 \r\nL 213.997852 7.2 \r\nL 213.997852 47.97 \r\n\" style=\"fill:#e4eef2;\"/>\r\n    <path clip-path=\"url(#p596c6ca285)\" d=\"M 215.796094 47.97 \r\nL 217.594336 47.97 \r\nL 217.594336 7.2 \r\nL 215.796094 7.2 \r\nL 215.796094 47.97 \r\n\" style=\"fill:#e5eff2;\"/>\r\n    <path clip-path=\"url(#p596c6ca285)\" d=\"M 217.594336 47.97 \r\nL 219.392578 47.97 \r\nL 219.392578 7.2 \r\nL 217.594336 7.2 \r\nL 217.594336 47.97 \r\n\" style=\"fill:#e6f0f3;\"/>\r\n    <path clip-path=\"url(#p596c6ca285)\" d=\"M 219.392578 47.97 \r\nL 221.19082 47.97 \r\nL 221.19082 7.2 \r\nL 219.392578 7.2 \r\nL 219.392578 47.97 \r\n\" style=\"fill:#e8f1f4;\"/>\r\n    <path clip-path=\"url(#p596c6ca285)\" d=\"M 221.19082 47.97 \r\nL 222.989062 47.97 \r\nL 222.989062 7.2 \r\nL 221.19082 7.2 \r\nL 221.19082 47.97 \r\n\" style=\"fill:#e9f2f5;\"/>\r\n    <path clip-path=\"url(#p596c6ca285)\" d=\"M 222.989062 47.97 \r\nL 224.787305 47.97 \r\nL 224.787305 7.2 \r\nL 222.989062 7.2 \r\nL 222.989062 47.97 \r\n\" style=\"fill:#ebf3f6;\"/>\r\n    <path clip-path=\"url(#p596c6ca285)\" d=\"M 224.787305 47.97 \r\nL 226.585547 47.97 \r\nL 226.585547 7.2 \r\nL 224.787305 7.2 \r\nL 224.787305 47.97 \r\n\" style=\"fill:#ecf4f6;\"/>\r\n    <path clip-path=\"url(#p596c6ca285)\" d=\"M 226.585547 47.97 \r\nL 228.383789 47.97 \r\nL 228.383789 7.2 \r\nL 226.585547 7.2 \r\nL 226.585547 47.97 \r\n\" style=\"fill:#edf5f7;\"/>\r\n    <path clip-path=\"url(#p596c6ca285)\" d=\"M 228.383789 47.97 \r\nL 230.182031 47.97 \r\nL 230.182031 7.2 \r\nL 228.383789 7.2 \r\nL 228.383789 47.97 \r\n\" style=\"fill:#f2f2f2;\"/>\r\n    <path clip-path=\"url(#p596c6ca285)\" d=\"M 230.182031 47.97 \r\nL 231.980273 47.97 \r\nL 231.980273 7.2 \r\nL 230.182031 7.2 \r\nL 230.182031 47.97 \r\n\" style=\"fill:#f2f2f2;\"/>\r\n    <path clip-path=\"url(#p596c6ca285)\" d=\"M 231.980273 47.97 \r\nL 233.778516 47.97 \r\nL 233.778516 7.2 \r\nL 231.980273 7.2 \r\nL 231.980273 47.97 \r\n\" style=\"fill:#f2f2f2;\"/>\r\n    <path clip-path=\"url(#p596c6ca285)\" d=\"M 233.778516 47.97 \r\nL 235.576758 47.97 \r\nL 235.576758 7.2 \r\nL 233.778516 7.2 \r\nL 233.778516 47.97 \r\n\" style=\"fill:#f2f2f2;\"/>\r\n    <path clip-path=\"url(#p596c6ca285)\" d=\"M 235.576758 47.97 \r\nL 237.375 47.97 \r\nL 237.375 7.2 \r\nL 235.576758 7.2 \r\nL 235.576758 47.97 \r\n\" style=\"fill:#f2f2f2;\"/>\r\n    <path clip-path=\"url(#p596c6ca285)\" d=\"M 237.375 47.97 \r\nL 239.173242 47.97 \r\nL 239.173242 7.2 \r\nL 237.375 7.2 \r\nL 237.375 47.97 \r\n\" style=\"fill:#f2f2f2;\"/>\r\n    <path clip-path=\"url(#p596c6ca285)\" d=\"M 239.173242 47.97 \r\nL 240.971484 47.97 \r\nL 240.971484 7.2 \r\nL 239.173242 7.2 \r\nL 239.173242 47.97 \r\n\" style=\"fill:#f2f2f2;\"/>\r\n    <path clip-path=\"url(#p596c6ca285)\" d=\"M 240.971484 47.97 \r\nL 242.769727 47.97 \r\nL 242.769727 7.2 \r\nL 240.971484 7.2 \r\nL 240.971484 47.97 \r\n\" style=\"fill:#f2f2f2;\"/>\r\n    <path clip-path=\"url(#p596c6ca285)\" d=\"M 242.769727 47.97 \r\nL 244.567969 47.97 \r\nL 244.567969 7.2 \r\nL 242.769727 7.2 \r\nL 242.769727 47.97 \r\n\" style=\"fill:#f2f2f2;\"/>\r\n    <path clip-path=\"url(#p596c6ca285)\" d=\"M 244.567969 47.97 \r\nL 246.366211 47.97 \r\nL 246.366211 7.2 \r\nL 244.567969 7.2 \r\nL 244.567969 47.97 \r\n\" style=\"fill:#f2f2f2;\"/>\r\n    <path clip-path=\"url(#p596c6ca285)\" d=\"M 246.366211 47.97 \r\nL 248.164453 47.97 \r\nL 248.164453 7.2 \r\nL 246.366211 7.2 \r\nL 246.366211 47.97 \r\n\" style=\"fill:#fbeaeb;\"/>\r\n    <path clip-path=\"url(#p596c6ca285)\" d=\"M 248.164453 47.97 \r\nL 249.962695 47.97 \r\nL 249.962695 7.2 \r\nL 248.164453 7.2 \r\nL 248.164453 47.97 \r\n\" style=\"fill:#fbe8ea;\"/>\r\n    <path clip-path=\"url(#p596c6ca285)\" d=\"M 249.962695 47.97 \r\nL 251.760938 47.97 \r\nL 251.760938 7.2 \r\nL 249.962695 7.2 \r\nL 249.962695 47.97 \r\n\" style=\"fill:#fae7e8;\"/>\r\n    <path clip-path=\"url(#p596c6ca285)\" d=\"M 251.760938 47.97 \r\nL 253.55918 47.97 \r\nL 253.55918 7.2 \r\nL 251.760938 7.2 \r\nL 251.760938 47.97 \r\n\" style=\"fill:#fae6e7;\"/>\r\n    <path clip-path=\"url(#p596c6ca285)\" d=\"M 253.55918 47.97 \r\nL 255.357422 47.97 \r\nL 255.357422 7.2 \r\nL 253.55918 7.2 \r\nL 253.55918 47.97 \r\n\" style=\"fill:#fae4e6;\"/>\r\n    <path clip-path=\"url(#p596c6ca285)\" d=\"M 255.357422 47.97 \r\nL 257.155664 47.97 \r\nL 257.155664 7.2 \r\nL 255.357422 7.2 \r\nL 255.357422 47.97 \r\n\" style=\"fill:#fae3e4;\"/>\r\n    <path clip-path=\"url(#p596c6ca285)\" d=\"M 257.155664 47.97 \r\nL 258.953906 47.97 \r\nL 258.953906 7.2 \r\nL 257.155664 7.2 \r\nL 257.155664 47.97 \r\n\" style=\"fill:#f9e1e3;\"/>\r\n    <path clip-path=\"url(#p596c6ca285)\" d=\"M 258.953906 47.97 \r\nL 260.752148 47.97 \r\nL 260.752148 7.2 \r\nL 258.953906 7.2 \r\nL 258.953906 47.97 \r\n\" style=\"fill:#f9e0e2;\"/>\r\n    <path clip-path=\"url(#p596c6ca285)\" d=\"M 260.752148 47.97 \r\nL 262.550391 47.97 \r\nL 262.550391 7.2 \r\nL 260.752148 7.2 \r\nL 260.752148 47.97 \r\n\" style=\"fill:#f9dfe1;\"/>\r\n    <path clip-path=\"url(#p596c6ca285)\" d=\"M 262.550391 47.97 \r\nL 264.348633 47.97 \r\nL 264.348633 7.2 \r\nL 262.550391 7.2 \r\nL 262.550391 47.97 \r\n\" style=\"fill:#f8dddf;\"/>\r\n    <path clip-path=\"url(#p596c6ca285)\" d=\"M 264.348633 47.97 \r\nL 266.146875 47.97 \r\nL 266.146875 7.2 \r\nL 264.348633 7.2 \r\nL 264.348633 47.97 \r\n\" style=\"fill:#f8dcde;\"/>\r\n    <path clip-path=\"url(#p596c6ca285)\" d=\"M 266.146875 47.97 \r\nL 267.945117 47.97 \r\nL 267.945117 7.2 \r\nL 266.146875 7.2 \r\nL 266.146875 47.97 \r\n\" style=\"fill:#f8dadc;\"/>\r\n    <path clip-path=\"url(#p596c6ca285)\" d=\"M 267.945117 47.97 \r\nL 269.743359 47.97 \r\nL 269.743359 7.2 \r\nL 267.945117 7.2 \r\nL 267.945117 47.97 \r\n\" style=\"fill:#f8d9db;\"/>\r\n    <path clip-path=\"url(#p596c6ca285)\" d=\"M 269.743359 47.97 \r\nL 271.541602 47.97 \r\nL 271.541602 7.2 \r\nL 269.743359 7.2 \r\nL 269.743359 47.97 \r\n\" style=\"fill:#f7d7da;\"/>\r\n    <path clip-path=\"url(#p596c6ca285)\" d=\"M 271.541602 47.97 \r\nL 273.339844 47.97 \r\nL 273.339844 7.2 \r\nL 271.541602 7.2 \r\nL 271.541602 47.97 \r\n\" style=\"fill:#f7d6d8;\"/>\r\n    <path clip-path=\"url(#p596c6ca285)\" d=\"M 273.339844 47.97 \r\nL 275.138086 47.97 \r\nL 275.138086 7.2 \r\nL 273.339844 7.2 \r\nL 273.339844 47.97 \r\n\" style=\"fill:#f7d5d7;\"/>\r\n    <path clip-path=\"url(#p596c6ca285)\" d=\"M 275.138086 47.97 \r\nL 276.936328 47.97 \r\nL 276.936328 7.2 \r\nL 275.138086 7.2 \r\nL 275.138086 47.97 \r\n\" style=\"fill:#f6d3d6;\"/>\r\n    <path clip-path=\"url(#p596c6ca285)\" d=\"M 276.936328 47.97 \r\nL 278.73457 47.97 \r\nL 278.73457 7.2 \r\nL 276.936328 7.2 \r\nL 276.936328 47.97 \r\n\" style=\"fill:#f6d2d4;\"/>\r\n    <path clip-path=\"url(#p596c6ca285)\" d=\"M 278.73457 47.97 \r\nL 280.532812 47.97 \r\nL 280.532812 7.2 \r\nL 278.73457 7.2 \r\nL 278.73457 47.97 \r\n\" style=\"fill:#f6d0d3;\"/>\r\n    <path clip-path=\"url(#p596c6ca285)\" d=\"M 280.532812 47.97 \r\nL 282.331055 47.97 \r\nL 282.331055 7.2 \r\nL 280.532812 7.2 \r\nL 280.532812 47.97 \r\n\" style=\"fill:#f6cfd2;\"/>\r\n    <path clip-path=\"url(#p596c6ca285)\" d=\"M 282.331055 47.97 \r\nL 284.129297 47.97 \r\nL 284.129297 7.2 \r\nL 282.331055 7.2 \r\nL 282.331055 47.97 \r\n\" style=\"fill:#f5ced1;\"/>\r\n    <path clip-path=\"url(#p596c6ca285)\" d=\"M 284.129297 47.97 \r\nL 285.927539 47.97 \r\nL 285.927539 7.2 \r\nL 284.129297 7.2 \r\nL 284.129297 47.97 \r\n\" style=\"fill:#f5cccf;\"/>\r\n    <path clip-path=\"url(#p596c6ca285)\" d=\"M 285.927539 47.97 \r\nL 287.725781 47.97 \r\nL 287.725781 7.2 \r\nL 285.927539 7.2 \r\nL 285.927539 47.97 \r\n\" style=\"fill:#f5cacd;\"/>\r\n    <path clip-path=\"url(#p596c6ca285)\" d=\"M 287.725781 47.97 \r\nL 289.524023 47.97 \r\nL 289.524023 7.2 \r\nL 287.725781 7.2 \r\nL 287.725781 47.97 \r\n\" style=\"fill:#f4c9cc;\"/>\r\n    <path clip-path=\"url(#p596c6ca285)\" d=\"M 289.524023 47.97 \r\nL 291.322266 47.97 \r\nL 291.322266 7.2 \r\nL 289.524023 7.2 \r\nL 289.524023 47.97 \r\n\" style=\"fill:#f4c8cb;\"/>\r\n    <path clip-path=\"url(#p596c6ca285)\" d=\"M 291.322266 47.97 \r\nL 293.120508 47.97 \r\nL 293.120508 7.2 \r\nL 291.322266 7.2 \r\nL 291.322266 47.97 \r\n\" style=\"fill:#f4c6ca;\"/>\r\n    <path clip-path=\"url(#p596c6ca285)\" d=\"M 293.120508 47.97 \r\nL 294.91875 47.97 \r\nL 294.91875 7.2 \r\nL 293.120508 7.2 \r\nL 293.120508 47.97 \r\n\" style=\"fill:#f4c5c8;\"/>\r\n    <path clip-path=\"url(#p596c6ca285)\" d=\"M 294.91875 47.97 \r\nL 296.716992 47.97 \r\nL 296.716992 7.2 \r\nL 294.91875 7.2 \r\nL 294.91875 47.97 \r\n\" style=\"fill:#f3c3c7;\"/>\r\n    <path clip-path=\"url(#p596c6ca285)\" d=\"M 296.716992 47.97 \r\nL 298.515234 47.97 \r\nL 298.515234 7.2 \r\nL 296.716992 7.2 \r\nL 296.716992 47.97 \r\n\" style=\"fill:#f3c2c6;\"/>\r\n    <path clip-path=\"url(#p596c6ca285)\" d=\"M 298.515234 47.97 \r\nL 300.313477 47.97 \r\nL 300.313477 7.2 \r\nL 298.515234 7.2 \r\nL 298.515234 47.97 \r\n\" style=\"fill:#f3c1c4;\"/>\r\n    <path clip-path=\"url(#p596c6ca285)\" d=\"M 300.313477 47.97 \r\nL 302.111719 47.97 \r\nL 302.111719 7.2 \r\nL 300.313477 7.2 \r\nL 300.313477 47.97 \r\n\" style=\"fill:#f3bfc3;\"/>\r\n    <path clip-path=\"url(#p596c6ca285)\" d=\"M 302.111719 47.97 \r\nL 303.909961 47.97 \r\nL 303.909961 7.2 \r\nL 302.111719 7.2 \r\nL 302.111719 47.97 \r\n\" style=\"fill:#f2bdc1;\"/>\r\n    <path clip-path=\"url(#p596c6ca285)\" d=\"M 303.909961 47.97 \r\nL 305.708203 47.97 \r\nL 305.708203 7.2 \r\nL 303.909961 7.2 \r\nL 303.909961 47.97 \r\n\" style=\"fill:#f2bcc0;\"/>\r\n    <path clip-path=\"url(#p596c6ca285)\" d=\"M 305.708203 47.97 \r\nL 307.506445 47.97 \r\nL 307.506445 7.2 \r\nL 305.708203 7.2 \r\nL 305.708203 47.97 \r\n\" style=\"fill:#f2bbbf;\"/>\r\n    <path clip-path=\"url(#p596c6ca285)\" d=\"M 307.506445 47.97 \r\nL 309.304688 47.97 \r\nL 309.304688 7.2 \r\nL 307.506445 7.2 \r\nL 307.506445 47.97 \r\n\" style=\"fill:#f1b9bd;\"/>\r\n    <path clip-path=\"url(#p596c6ca285)\" d=\"M 309.304688 47.97 \r\nL 311.10293 47.97 \r\nL 311.10293 7.2 \r\nL 309.304688 7.2 \r\nL 309.304688 47.97 \r\n\" style=\"fill:#f1b8bc;\"/>\r\n    <path clip-path=\"url(#p596c6ca285)\" d=\"M 311.10293 47.97 \r\nL 312.901172 47.97 \r\nL 312.901172 7.2 \r\nL 311.10293 7.2 \r\nL 311.10293 47.97 \r\n\" style=\"fill:#f1b7bb;\"/>\r\n    <path clip-path=\"url(#p596c6ca285)\" d=\"M 312.901172 47.97 \r\nL 314.699414 47.97 \r\nL 314.699414 7.2 \r\nL 312.901172 7.2 \r\nL 312.901172 47.97 \r\n\" style=\"fill:#f1b5ba;\"/>\r\n    <path clip-path=\"url(#p596c6ca285)\" d=\"M 314.699414 47.97 \r\nL 316.497656 47.97 \r\nL 316.497656 7.2 \r\nL 314.699414 7.2 \r\nL 314.699414 47.97 \r\n\" style=\"fill:#f0b4b8;\"/>\r\n    <path clip-path=\"url(#p596c6ca285)\" d=\"M 316.497656 47.97 \r\nL 318.295898 47.97 \r\nL 318.295898 7.2 \r\nL 316.497656 7.2 \r\nL 316.497656 47.97 \r\n\" style=\"fill:#f0b2b7;\"/>\r\n    <path clip-path=\"url(#p596c6ca285)\" d=\"M 318.295898 47.97 \r\nL 320.094141 47.97 \r\nL 320.094141 7.2 \r\nL 318.295898 7.2 \r\nL 318.295898 47.97 \r\n\" style=\"fill:#f0b1b6;\"/>\r\n    <path clip-path=\"url(#p596c6ca285)\" d=\"M 320.094141 47.97 \r\nL 321.892383 47.97 \r\nL 321.892383 7.2 \r\nL 320.094141 7.2 \r\nL 320.094141 47.97 \r\n\" style=\"fill:#efafb4;\"/>\r\n    <path clip-path=\"url(#p596c6ca285)\" d=\"M 321.892383 47.97 \r\nL 323.690625 47.97 \r\nL 323.690625 7.2 \r\nL 321.892383 7.2 \r\nL 321.892383 47.97 \r\n\" style=\"fill:#efaeb2;\"/>\r\n    <path clip-path=\"url(#p596c6ca285)\" d=\"M 323.690625 47.97 \r\nL 325.488867 47.97 \r\nL 325.488867 7.2 \r\nL 323.690625 7.2 \r\nL 323.690625 47.97 \r\n\" style=\"fill:#efacb1;\"/>\r\n    <path clip-path=\"url(#p596c6ca285)\" d=\"M 325.488867 47.97 \r\nL 327.287109 47.97 \r\nL 327.287109 7.2 \r\nL 325.488867 7.2 \r\nL 325.488867 47.97 \r\n\" style=\"fill:#efabb0;\"/>\r\n    <path clip-path=\"url(#p596c6ca285)\" d=\"M 327.287109 47.97 \r\nL 329.085352 47.97 \r\nL 329.085352 7.2 \r\nL 327.287109 7.2 \r\nL 327.287109 47.97 \r\n\" style=\"fill:#eeaaaf;\"/>\r\n    <path clip-path=\"url(#p596c6ca285)\" d=\"M 329.085352 47.97 \r\nL 330.883594 47.97 \r\nL 330.883594 7.2 \r\nL 329.085352 7.2 \r\nL 329.085352 47.97 \r\n\" style=\"fill:#eea8ad;\"/>\r\n    <path clip-path=\"url(#p596c6ca285)\" d=\"M 330.883594 47.97 \r\nL 332.681836 47.97 \r\nL 332.681836 7.2 \r\nL 330.883594 7.2 \r\nL 330.883594 47.97 \r\n\" style=\"fill:#eea7ac;\"/>\r\n    <path clip-path=\"url(#p596c6ca285)\" d=\"M 332.681836 47.97 \r\nL 334.480078 47.97 \r\nL 334.480078 7.2 \r\nL 332.681836 7.2 \r\nL 332.681836 47.97 \r\n\" style=\"fill:#eea5ab;\"/>\r\n    <path clip-path=\"url(#p596c6ca285)\" d=\"M 334.480078 47.97 \r\nL 336.27832 47.97 \r\nL 336.27832 7.2 \r\nL 334.480078 7.2 \r\nL 334.480078 47.97 \r\n\" style=\"fill:#eda4a9;\"/>\r\n    <path clip-path=\"url(#p596c6ca285)\" d=\"M 336.27832 47.97 \r\nL 338.076563 47.97 \r\nL 338.076563 7.2 \r\nL 336.27832 7.2 \r\nL 336.27832 47.97 \r\n\" style=\"fill:#eda3a8;\"/>\r\n    <path clip-path=\"url(#p596c6ca285)\" d=\"M 338.076563 47.97 \r\nL 339.874805 47.97 \r\nL 339.874805 7.2 \r\nL 338.076563 7.2 \r\nL 338.076563 47.97 \r\n\" style=\"fill:#eda1a6;\"/>\r\n    <path clip-path=\"url(#p596c6ca285)\" d=\"M 339.874805 47.97 \r\nL 341.673047 47.97 \r\nL 341.673047 7.2 \r\nL 339.874805 7.2 \r\nL 339.874805 47.97 \r\n\" style=\"fill:#ec9fa5;\"/>\r\n    <path clip-path=\"url(#p596c6ca285)\" d=\"M 341.673047 47.97 \r\nL 343.471289 47.97 \r\nL 343.471289 7.2 \r\nL 341.673047 7.2 \r\nL 341.673047 47.97 \r\n\" style=\"fill:#ec9ea4;\"/>\r\n    <path clip-path=\"url(#p596c6ca285)\" d=\"M 343.471289 47.97 \r\nL 345.269531 47.97 \r\nL 345.269531 7.2 \r\nL 343.471289 7.2 \r\nL 343.471289 47.97 \r\n\" style=\"fill:#ec9da2;\"/>\r\n    <path clip-path=\"url(#p596c6ca285)\" d=\"M 345.269531 47.97 \r\nL 347.067773 47.97 \r\nL 347.067773 7.2 \r\nL 345.269531 7.2 \r\nL 345.269531 47.97 \r\n\" style=\"fill:#ec9ba1;\"/>\r\n    <path clip-path=\"url(#p596c6ca285)\" d=\"M 347.067773 47.97 \r\nL 348.866016 47.97 \r\nL 348.866016 7.2 \r\nL 347.067773 7.2 \r\nL 347.067773 47.97 \r\n\" style=\"fill:#eb9aa0;\"/>\r\n    <path clip-path=\"url(#p596c6ca285)\" d=\"M 348.866016 47.97 \r\nL 350.664258 47.97 \r\nL 350.664258 7.2 \r\nL 348.866016 7.2 \r\nL 348.866016 47.97 \r\n\" style=\"fill:#eb999f;\"/>\r\n    <path clip-path=\"url(#p596c6ca285)\" d=\"M 350.664258 47.97 \r\nL 352.4625 47.97 \r\nL 352.4625 7.2 \r\nL 350.664258 7.2 \r\nL 350.664258 47.97 \r\n\" style=\"fill:#eb979d;\"/>\r\n    <path clip-path=\"url(#p596c6ca285)\" d=\"M 352.4625 47.97 \r\nL 354.260742 47.97 \r\nL 354.260742 7.2 \r\nL 352.4625 7.2 \r\nL 352.4625 47.97 \r\n\" style=\"fill:#eb969c;\"/>\r\n    <path clip-path=\"url(#p596c6ca285)\" d=\"M 354.260742 47.97 \r\nL 356.058984 47.97 \r\nL 356.058984 7.2 \r\nL 354.260742 7.2 \r\nL 354.260742 47.97 \r\n\" style=\"fill:#ea949b;\"/>\r\n    <path clip-path=\"url(#p596c6ca285)\" d=\"M 356.058984 47.97 \r\nL 357.857227 47.97 \r\nL 357.857227 7.2 \r\nL 356.058984 7.2 \r\nL 356.058984 47.97 \r\n\" style=\"fill:#ea9299;\"/>\r\n    <path clip-path=\"url(#p596c6ca285)\" d=\"M 357.857227 47.97 \r\nL 359.655469 47.97 \r\nL 359.655469 7.2 \r\nL 357.857227 7.2 \r\nL 357.857227 47.97 \r\n\" style=\"fill:#ea9198;\"/>\r\n    <path clip-path=\"url(#p596c6ca285)\" d=\"M 359.655469 47.97 \r\nL 361.453711 47.97 \r\nL 361.453711 7.2 \r\nL 359.655469 7.2 \r\nL 359.655469 47.97 \r\n\" style=\"fill:#e99096;\"/>\r\n    <path clip-path=\"url(#p596c6ca285)\" d=\"M 361.453711 47.97 \r\nL 363.251953 47.97 \r\nL 363.251953 7.2 \r\nL 361.453711 7.2 \r\nL 361.453711 47.97 \r\n\" style=\"fill:#e98e95;\"/>\r\n    <path clip-path=\"url(#p596c6ca285)\" d=\"M 363.251953 47.97 \r\nL 365.050195 47.97 \r\nL 365.050195 7.2 \r\nL 363.251953 7.2 \r\nL 363.251953 47.97 \r\n\" style=\"fill:#e98d94;\"/>\r\n    <path clip-path=\"url(#p596c6ca285)\" d=\"M 365.050195 47.97 \r\nL 366.848437 47.97 \r\nL 366.848437 7.2 \r\nL 365.050195 7.2 \r\nL 365.050195 47.97 \r\n\" style=\"fill:#e98c92;\"/>\r\n    <path clip-path=\"url(#p596c6ca285)\" d=\"M 366.848437 47.97 \r\nL 368.64668 47.97 \r\nL 368.64668 7.2 \r\nL 366.848437 7.2 \r\nL 366.848437 47.97 \r\n\" style=\"fill:#e88a91;\"/>\r\n    <path clip-path=\"url(#p596c6ca285)\" d=\"M 368.64668 47.97 \r\nL 370.444922 47.97 \r\nL 370.444922 7.2 \r\nL 368.64668 7.2 \r\nL 368.64668 47.97 \r\n\" style=\"fill:#e88990;\"/>\r\n    <path clip-path=\"url(#p596c6ca285)\" d=\"M 370.444922 47.97 \r\nL 372.243164 47.97 \r\nL 372.243164 7.2 \r\nL 370.444922 7.2 \r\nL 370.444922 47.97 \r\n\" style=\"fill:#e8878f;\"/>\r\n    <path clip-path=\"url(#p596c6ca285)\" d=\"M 372.243164 47.97 \r\nL 374.041406 47.97 \r\nL 374.041406 7.2 \r\nL 372.243164 7.2 \r\nL 372.243164 47.97 \r\n\" style=\"fill:#e7868d;\"/>\r\n    <path clip-path=\"url(#p596c6ca285)\" d=\"M 374.041406 47.97 \r\nL 375.839648 47.97 \r\nL 375.839648 7.2 \r\nL 374.041406 7.2 \r\nL 374.041406 47.97 \r\n\" style=\"fill:#e7858c;\"/>\r\n    <path clip-path=\"url(#p596c6ca285)\" d=\"M 375.839648 47.97 \r\nL 377.637891 47.97 \r\nL 377.637891 7.2 \r\nL 375.839648 7.2 \r\nL 375.839648 47.97 \r\n\" style=\"fill:#e7838a;\"/>\r\n    <path clip-path=\"url(#p596c6ca285)\" d=\"M 377.637891 47.97 \r\nL 379.436133 47.97 \r\nL 379.436133 7.2 \r\nL 377.637891 7.2 \r\nL 377.637891 47.97 \r\n\" style=\"fill:#e78189;\"/>\r\n    <path clip-path=\"url(#p596c6ca285)\" d=\"M 379.436133 47.97 \r\nL 381.234375 47.97 \r\nL 381.234375 7.2 \r\nL 379.436133 7.2 \r\nL 379.436133 47.97 \r\n\" style=\"fill:#e68087;\"/>\r\n    <path clip-path=\"url(#p596c6ca285)\" d=\"M 381.234375 47.97 \r\nL 383.032617 47.97 \r\nL 383.032617 7.2 \r\nL 381.234375 7.2 \r\nL 381.234375 47.97 \r\n\" style=\"fill:#e67f86;\"/>\r\n    <path clip-path=\"url(#p596c6ca285)\" d=\"M 383.032617 47.97 \r\nL 384.830859 47.97 \r\nL 384.830859 7.2 \r\nL 383.032617 7.2 \r\nL 383.032617 47.97 \r\n\" style=\"fill:#e67d85;\"/>\r\n    <path clip-path=\"url(#p596c6ca285)\" d=\"M 384.830859 47.97 \r\nL 386.629102 47.97 \r\nL 386.629102 7.2 \r\nL 384.830859 7.2 \r\nL 384.830859 47.97 \r\n\" style=\"fill:#e57c84;\"/>\r\n    <path clip-path=\"url(#p596c6ca285)\" d=\"M 386.629102 47.97 \r\nL 388.427344 47.97 \r\nL 388.427344 7.2 \r\nL 386.629102 7.2 \r\nL 386.629102 47.97 \r\n\" style=\"fill:#e57a82;\"/>\r\n    <path clip-path=\"url(#p596c6ca285)\" d=\"M 388.427344 47.97 \r\nL 390.225586 47.97 \r\nL 390.225586 7.2 \r\nL 388.427344 7.2 \r\nL 388.427344 47.97 \r\n\" style=\"fill:#e57981;\"/>\r\n    <path clip-path=\"url(#p596c6ca285)\" d=\"M 390.225586 47.97 \r\nL 392.023828 47.97 \r\nL 392.023828 7.2 \r\nL 390.225586 7.2 \r\nL 390.225586 47.97 \r\n\" style=\"fill:#e57880;\"/>\r\n    <path clip-path=\"url(#p596c6ca285)\" d=\"M 392.023828 47.97 \r\nL 393.82207 47.97 \r\nL 393.82207 7.2 \r\nL 392.023828 7.2 \r\nL 392.023828 47.97 \r\n\" style=\"fill:#e4767e;\"/>\r\n    <path clip-path=\"url(#p596c6ca285)\" d=\"M 393.82207 47.97 \r\nL 395.620313 47.97 \r\nL 395.620313 7.2 \r\nL 393.82207 7.2 \r\nL 393.82207 47.97 \r\n\" style=\"fill:#e4747d;\"/>\r\n    <path clip-path=\"url(#p596c6ca285)\" d=\"M 395.620313 47.97 \r\nL 397.418555 47.97 \r\nL 397.418555 7.2 \r\nL 395.620313 7.2 \r\nL 395.620313 47.97 \r\n\" style=\"fill:#e4737b;\"/>\r\n    <path clip-path=\"url(#p596c6ca285)\" d=\"M 397.418555 47.97 \r\nL 399.216797 47.97 \r\nL 399.216797 7.2 \r\nL 397.418555 7.2 \r\nL 397.418555 47.97 \r\n\" style=\"fill:#e3727a;\"/>\r\n    <path clip-path=\"url(#p596c6ca285)\" d=\"M 399.216797 47.97 \r\nL 401.015039 47.97 \r\nL 401.015039 7.2 \r\nL 399.216797 7.2 \r\nL 399.216797 47.97 \r\n\" style=\"fill:#e37079;\"/>\r\n    <path clip-path=\"url(#p596c6ca285)\" d=\"M 401.015039 47.97 \r\nL 402.813281 47.97 \r\nL 402.813281 7.2 \r\nL 401.015039 7.2 \r\nL 401.015039 47.97 \r\n\" style=\"fill:#e36f77;\"/>\r\n    <path clip-path=\"url(#p596c6ca285)\" d=\"M 402.813281 47.97 \r\nL 404.611523 47.97 \r\nL 404.611523 7.2 \r\nL 402.813281 7.2 \r\nL 402.813281 47.97 \r\n\" style=\"fill:#e36e76;\"/>\r\n    <path clip-path=\"url(#p596c6ca285)\" d=\"M 404.611523 47.97 \r\nL 406.409766 47.97 \r\nL 406.409766 7.2 \r\nL 404.611523 7.2 \r\nL 404.611523 47.97 \r\n\" style=\"fill:#e26c75;\"/>\r\n    <path clip-path=\"url(#p596c6ca285)\" d=\"M 406.409766 47.97 \r\nL 408.208008 47.97 \r\nL 408.208008 7.2 \r\nL 406.409766 7.2 \r\nL 406.409766 47.97 \r\n\" style=\"fill:#e26b74;\"/>\r\n    <path clip-path=\"url(#p596c6ca285)\" d=\"M 408.208008 47.97 \r\nL 410.00625 47.97 \r\nL 410.00625 7.2 \r\nL 408.208008 7.2 \r\nL 408.208008 47.97 \r\n\" style=\"fill:#e26972;\"/>\r\n    <path clip-path=\"url(#p596c6ca285)\" d=\"M 410.00625 47.97 \r\nL 411.804492 47.97 \r\nL 411.804492 7.2 \r\nL 410.00625 7.2 \r\nL 410.00625 47.97 \r\n\" style=\"fill:#e26871;\"/>\r\n    <path clip-path=\"url(#p596c6ca285)\" d=\"M 411.804492 47.97 \r\nL 413.602734 47.97 \r\nL 413.602734 7.2 \r\nL 411.804492 7.2 \r\nL 411.804492 47.97 \r\n\" style=\"fill:#e1666f;\"/>\r\n    <path clip-path=\"url(#p596c6ca285)\" d=\"M 413.602734 47.97 \r\nL 415.400977 47.97 \r\nL 415.400977 7.2 \r\nL 413.602734 7.2 \r\nL 413.602734 47.97 \r\n\" style=\"fill:#e1656e;\"/>\r\n    <path clip-path=\"url(#p596c6ca285)\" d=\"M 415.400977 47.97 \r\nL 417.199219 47.97 \r\nL 417.199219 7.2 \r\nL 415.400977 7.2 \r\nL 415.400977 47.97 \r\n\" style=\"fill:#e1636d;\"/>\r\n    <path clip-path=\"url(#p596c6ca285)\" d=\"M 417.199219 47.97 \r\nL 418.997461 47.97 \r\nL 418.997461 7.2 \r\nL 417.199219 7.2 \r\nL 417.199219 47.97 \r\n\" style=\"fill:#e0626b;\"/>\r\n    <path clip-path=\"url(#p596c6ca285)\" d=\"M 418.997461 47.97 \r\nL 420.795703 47.97 \r\nL 420.795703 7.2 \r\nL 418.997461 7.2 \r\nL 418.997461 47.97 \r\n\" style=\"fill:#e0616a;\"/>\r\n    <path clip-path=\"url(#p596c6ca285)\" d=\"M 420.795703 47.97 \r\nL 422.593945 47.97 \r\nL 422.593945 7.2 \r\nL 420.795703 7.2 \r\nL 420.795703 47.97 \r\n\" style=\"fill:#e05f69;\"/>\r\n    <path clip-path=\"url(#p596c6ca285)\" d=\"M 422.593945 47.97 \r\nL 424.392188 47.97 \r\nL 424.392188 7.2 \r\nL 422.593945 7.2 \r\nL 422.593945 47.97 \r\n\" style=\"fill:#e05e67;\"/>\r\n    <path clip-path=\"url(#p596c6ca285)\" d=\"M 424.392188 47.97 \r\nL 426.19043 47.97 \r\nL 426.19043 7.2 \r\nL 424.392188 7.2 \r\nL 424.392188 47.97 \r\n\" style=\"fill:#df5c66;\"/>\r\n    <path clip-path=\"url(#p596c6ca285)\" d=\"M 426.19043 47.97 \r\nL 427.988672 47.97 \r\nL 427.988672 7.2 \r\nL 426.19043 7.2 \r\nL 426.19043 47.97 \r\n\" style=\"fill:#df5b65;\"/>\r\n    <path clip-path=\"url(#p596c6ca285)\" d=\"M 427.988672 47.97 \r\nL 429.786914 47.97 \r\nL 429.786914 7.2 \r\nL 427.988672 7.2 \r\nL 427.988672 47.97 \r\n\" style=\"fill:#df5a64;\"/>\r\n    <path clip-path=\"url(#p596c6ca285)\" d=\"M 429.786914 47.97 \r\nL 431.585156 47.97 \r\nL 431.585156 7.2 \r\nL 429.786914 7.2 \r\nL 429.786914 47.97 \r\n\" style=\"fill:#de5862;\"/>\r\n    <path clip-path=\"url(#p596c6ca285)\" d=\"M 431.585156 47.97 \r\nL 433.383398 47.97 \r\nL 433.383398 7.2 \r\nL 431.585156 7.2 \r\nL 431.585156 47.97 \r\n\" style=\"fill:#de5660;\"/>\r\n    <path clip-path=\"url(#p596c6ca285)\" d=\"M 433.383398 47.97 \r\nL 435.181641 47.97 \r\nL 435.181641 7.2 \r\nL 433.383398 7.2 \r\nL 433.383398 47.97 \r\n\" style=\"fill:#de555f;\"/>\r\n    <path clip-path=\"url(#p596c6ca285)\" d=\"M 435.181641 47.97 \r\nL 436.979883 47.97 \r\nL 436.979883 7.2 \r\nL 435.181641 7.2 \r\nL 435.181641 47.97 \r\n\" style=\"fill:#de545e;\"/>\r\n    <path clip-path=\"url(#p596c6ca285)\" d=\"M 436.979883 47.97 \r\nL 438.778125 47.97 \r\nL 438.778125 7.2 \r\nL 436.979883 7.2 \r\nL 436.979883 47.97 \r\n\" style=\"fill:#dd525c;\"/>\r\n    <path clip-path=\"url(#p596c6ca285)\" d=\"M 438.778125 47.97 \r\nL 440.576367 47.97 \r\nL 440.576367 7.2 \r\nL 438.778125 7.2 \r\nL 438.778125 47.97 \r\n\" style=\"fill:#dd515b;\"/>\r\n    <path clip-path=\"url(#p596c6ca285)\" d=\"M 440.576367 47.97 \r\nL 442.374609 47.97 \r\nL 442.374609 7.2 \r\nL 440.576367 7.2 \r\nL 440.576367 47.97 \r\n\" style=\"fill:#dd505a;\"/>\r\n    <path clip-path=\"url(#p596c6ca285)\" d=\"M 442.374609 47.97 \r\nL 444.172852 47.97 \r\nL 444.172852 7.2 \r\nL 442.374609 7.2 \r\nL 442.374609 47.97 \r\n\" style=\"fill:#dd4e59;\"/>\r\n    <path clip-path=\"url(#p596c6ca285)\" d=\"M 444.172852 47.97 \r\nL 445.971094 47.97 \r\nL 445.971094 7.2 \r\nL 444.172852 7.2 \r\nL 444.172852 47.97 \r\n\" style=\"fill:#dc4d57;\"/>\r\n    <path clip-path=\"url(#p596c6ca285)\" d=\"M 445.971094 47.97 \r\nL 447.769336 47.97 \r\nL 447.769336 7.2 \r\nL 445.971094 7.2 \r\nL 445.971094 47.97 \r\n\" style=\"fill:#dc4b56;\"/>\r\n    <path clip-path=\"url(#p596c6ca285)\" d=\"M 447.769336 47.97 \r\nL 449.567578 47.97 \r\nL 449.567578 7.2 \r\nL 447.769336 7.2 \r\nL 447.769336 47.97 \r\n\" style=\"fill:#dc4954;\"/>\r\n    <path clip-path=\"url(#p596c6ca285)\" d=\"M 449.567578 47.97 \r\nL 451.36582 47.97 \r\nL 451.36582 7.2 \r\nL 449.567578 7.2 \r\nL 449.567578 47.97 \r\n\" style=\"fill:#db4853;\"/>\r\n    <path clip-path=\"url(#p596c6ca285)\" d=\"M 451.36582 47.97 \r\nL 453.164062 47.97 \r\nL 453.164062 7.2 \r\nL 451.36582 7.2 \r\nL 451.36582 47.97 \r\n\" style=\"fill:#db4752;\"/>\r\n    <path clip-path=\"url(#p596c6ca285)\" d=\"M 453.164062 47.97 \r\nL 454.962305 47.97 \r\nL 454.962305 7.2 \r\nL 453.164062 7.2 \r\nL 453.164062 47.97 \r\n\" style=\"fill:#db4550;\"/>\r\n    <path clip-path=\"url(#p596c6ca285)\" d=\"M 454.962305 47.97 \r\nL 456.760547 47.97 \r\nL 456.760547 7.2 \r\nL 454.962305 7.2 \r\nL 454.962305 47.97 \r\n\" style=\"fill:#db444f;\"/>\r\n    <path clip-path=\"url(#p596c6ca285)\" d=\"M 456.760547 47.97 \r\nL 458.558789 47.97 \r\nL 458.558789 7.2 \r\nL 456.760547 7.2 \r\nL 456.760547 47.97 \r\n\" style=\"fill:#da434e;\"/>\r\n    <path clip-path=\"url(#p596c6ca285)\" d=\"M 458.558789 47.97 \r\nL 460.357031 47.97 \r\nL 460.357031 7.2 \r\nL 458.558789 7.2 \r\nL 458.558789 47.97 \r\n\" style=\"fill:#da414c;\"/>\r\n    <path clip-path=\"url(#p596c6ca285)\" d=\"M 460.357031 47.97 \r\nL 462.155273 47.97 \r\nL 462.155273 7.2 \r\nL 460.357031 7.2 \r\nL 460.357031 47.97 \r\n\" style=\"fill:#da404b;\"/>\r\n    <path clip-path=\"url(#p596c6ca285)\" d=\"M 462.155273 47.97 \r\nL 463.953516 47.97 \r\nL 463.953516 7.2 \r\nL 462.155273 7.2 \r\nL 462.155273 47.97 \r\n\" style=\"fill:#da3e4a;\"/>\r\n    <path clip-path=\"url(#p596c6ca285)\" d=\"M 463.953516 47.97 \r\nL 465.751758 47.97 \r\nL 465.751758 7.2 \r\nL 463.953516 7.2 \r\nL 463.953516 47.97 \r\n\" style=\"fill:#d93d49;\"/>\r\n    <path clip-path=\"url(#p596c6ca285)\" d=\"M 465.751758 47.97 \r\nL 467.55 47.97 \r\nL 467.55 7.2 \r\nL 465.751758 7.2 \r\nL 465.751758 47.97 \r\n\" style=\"fill:#d93c47;\"/>\r\n   </g>\r\n   <g id=\"patch_3\">\r\n    <path d=\"M 7.2 47.97 \r\nL 7.2 7.2 \r\n\" style=\"fill:none;stroke:#262626;stroke-linecap:square;stroke-linejoin:miter;stroke-width:1.25;\"/>\r\n   </g>\r\n   <g id=\"patch_4\">\r\n    <path d=\"M 467.55 47.97 \r\nL 467.55 7.2 \r\n\" style=\"fill:none;stroke:#262626;stroke-linecap:square;stroke-linejoin:miter;stroke-width:1.25;\"/>\r\n   </g>\r\n   <g id=\"patch_5\">\r\n    <path d=\"M 7.2 47.97 \r\nL 467.55 47.97 \r\n\" style=\"fill:none;stroke:#262626;stroke-linecap:square;stroke-linejoin:miter;stroke-width:1.25;\"/>\r\n   </g>\r\n   <g id=\"patch_6\">\r\n    <path d=\"M 7.2 7.2 \r\nL 467.55 7.2 \r\n\" style=\"fill:none;stroke:#262626;stroke-linecap:square;stroke-linejoin:miter;stroke-width:1.25;\"/>\r\n   </g>\r\n  </g>\r\n </g>\r\n <defs>\r\n  <clipPath id=\"p596c6ca285\">\r\n   <rect height=\"40.77\" width=\"460.35\" x=\"7.2\" y=\"7.2\"/>\r\n  </clipPath>\r\n </defs>\r\n</svg>\r\n",
      "text/plain": "<Figure size 594x54 with 1 Axes>"
     },
     "metadata": {},
     "output_type": "display_data"
    }
   ],
   "source": [
    "# base libs\n",
    "import numpy as np\n",
    "import pandas as pd\n",
    "\n",
    "pd.options.display.max_columns = 500\n",
    "pd.options.display.max_rows = 100\n",
    "\n",
    "# visualization\n",
    "import matplotlib.pyplot as plt\n",
    "import seaborn as sns\n",
    "\n",
    "%matplotlib inline\n",
    "\n",
    "sns.set(style='white')\n",
    "cmap = sns.choose_diverging_palette(as_cmap=True)"
   ]
  },
  {
   "cell_type": "code",
   "execution_count": 3,
   "metadata": {},
   "outputs": [],
   "source": [
    "%aimport dasci.data.explore\n",
    "\n",
    "import dasci.data.explore as expl"
   ]
  },
  {
   "cell_type": "code",
   "execution_count": 4,
   "metadata": {},
   "outputs": [],
   "source": [
    "df = pd.read_pickle(expl.full_path_name(r'output\\train-fe-basic.pickle'))"
   ]
  },
  {
   "cell_type": "markdown",
   "execution_count": null,
   "metadata": {},
   "outputs": [],
   "source": [
    "## 1. Log transform of skewed numerical features"
   ]
  },
  {
   "cell_type": "code",
   "execution_count": 5,
   "metadata": {},
   "outputs": [],
   "source": [
    "from scipy.stats import skew\n",
    "\n",
    "def transform_skewed_features(df: pd.DataFrame):\n",
    "    numerical_features = df.select_dtypes(exclude = [\"object\"]).columns\n",
    "\n",
    "    skewness = df[numerical_features].apply(lambda x: skew(x))\n",
    "    skewness = skewness[abs(skewness) > 0.5]\n",
    "    print(f\"{skewness.shape[0]} skewed numerical features ({skewness.index}) have been log-transformed.\")\n",
    "    skewed_features = skewness.index\n",
    "    df[skewed_features] = np.log1p(df[skewed_features])"
   ]
  },
  {
   "cell_type": "code",
   "execution_count": 6,
   "metadata": {},
   "outputs": [
    {
     "name": "stdout",
     "output_type": "stream",
     "text": "36 skewed numerical features (Index(['LotArea', 'LotShape', 'LandSlope', 'OverallCond', 'YearBuilt',\n       'YearRemodAdd', 'ExterQual', 'ExterCond', 'BsmtQual', 'BsmtExposure',\n       'BsmtFinSF1', 'BsmtFinType2', 'BsmtFinSF2', 'BsmtUnfSF', 'TotalBsmtSF',\n       'HeatingQC', '1stFlrSF', '2ndFlrSF', 'LowQualFinSF', 'GrLivArea',\n       'BsmtFullBath', 'BsmtHalfBath', 'HalfBath', 'TotRmsAbvGrd',\n       'Functional', 'Fireplaces', 'GarageYrBlt', 'GarageQual', 'GarageCond',\n       'PavedDrive', 'WoodDeckSF', 'OpenPorchSF', 'EnclosedPorch', '3SsnPorch',\n       'ScreenPorch', 'MiscVal'],\n      dtype='object')) have been log-transformed.\n"
    }
   ],
   "source": [
    "transform_skewed_features(df)"
   ]
  },
  {
   "cell_type": "markdown",
   "execution_count": 8,
   "metadata": {},
   "outputs": [],
   "source": [
    "## 2. New features introduction"
   ]
  },
  {
   "cell_type": "markdown",
   "execution_count": null,
   "metadata": {},
   "outputs": [],
   "source": [
    "Based on https://www.kaggle.com/juliencs/a-study-on-regression-applied-to-the-ames-dataset\n",
    "\n",
    "Then we will create new features, in 3 ways:\n",
    "* Simplifications of existing features\n",
    "* Combinations of existing features\n",
    "* Polynomials on the top 10 existing features"
   ]
  },
  {
   "cell_type": "markdown",
   "execution_count": null,
   "metadata": {},
   "outputs": [],
   "source": [
    "1. Simplification "
   ]
  },
  {
   "cell_type": "code",
   "execution_count": 7,
   "metadata": {},
   "outputs": [],
   "source": [
    "df[\"SimplOverallQual\"] = df.OverallQual.replace({1 : 1, 2 : 1, 3 : 1, # bad\n",
    "                                                 4 : 2, 5 : 2, 6 : 2, # average\n",
    "                                                 7 : 3, 8 : 3, 9 : 3, 10 : 3 # good\n",
    "                                                 })\n",
    "df[\"SimplOverallCond\"] = df.OverallCond.replace({1 : 1, 2 : 1, 3 : 1, # bad\n",
    "                                                 4 : 2, 5 : 2, 6 : 2, # average\n",
    "                                                 7 : 3, 8 : 3, 9 : 3, 10 : 3 # good\n",
    "                                                 })\n",
    "df[\"SimplGarageCond\"] = df.GarageCond.replace({1 : 1, # bad\n",
    "                                               2 : 1, 3 : 1, # average\n",
    "                                               4 : 2, 5 : 2 # good\n",
    "                                               })\n",
    "df[\"SimplGarageQual\"] = df.GarageQual.replace({1 : 1, # bad\n",
    "                                               2 : 1, 3 : 1, # average\n",
    "                                               4 : 2, 5 : 2 # good\n",
    "                                               })\n",
    "df[\"SimplFunctional\"] = df.Functional.replace({1 : 1, 2 : 1, # bad\n",
    "                                               3 : 2, 4 : 2, # major\n",
    "                                               5 : 3, 6 : 3, 7 : 3, # minor\n",
    "                                               8 : 4 # typical\n",
    "                                               })\n",
    "df[\"SimplKitchenQual\"] = df.KitchenQual.replace({1 : 1, # bad\n",
    "                                                 2 : 1, 3 : 1, # average\n",
    "                                                 4 : 2, 5 : 2 # good\n",
    "                                                })\n",
    "df[\"SimplHeatingQC\"] = df.HeatingQC.replace({1 : 1, # bad\n",
    "                                                   2 : 1, 3 : 1, # average\n",
    "                                                   4 : 2, 5 : 2 # good\n",
    "                                                  })\n",
    "df[\"SimplBsmtFinType1\"] = df.BsmtFinType1.replace({1 : 1, # unfinished\n",
    "                                                         2 : 1, 3 : 1, # rec room\n",
    "                                                         4 : 2, 5 : 2, 6 : 2 # living quarters\n",
    "                                                        })\n",
    "df[\"SimplBsmtFinType2\"] = df.BsmtFinType2.replace({1 : 1, # unfinished\n",
    "                                                         2 : 1, 3 : 1, # rec room\n",
    "                                                         4 : 2, 5 : 2, 6 : 2 # living quarters\n",
    "                                                        })\n",
    "df[\"SimplBsmtCond\"] = df.BsmtCond.replace({1 : 1, # bad\n",
    "                                                 2 : 1, 3 : 1, # average\n",
    "                                                 4 : 2, 5 : 2 # good\n",
    "                                                })\n",
    "df[\"SimplBsmtQual\"] = df.BsmtQual.replace({1 : 1, # bad\n",
    "                                                 2 : 1, 3 : 1, # average\n",
    "                                                 4 : 2, 5 : 2 # good\n",
    "                                                })\n",
    "df[\"SimplExterCond\"] = df.ExterCond.replace({1 : 1, # bad\n",
    "                                                   2 : 1, 3 : 1, # average\n",
    "                                                   4 : 2, 5 : 2 # good\n",
    "                                                  })\n",
    "df[\"SimplExterQual\"] = df.ExterQual.replace({1 : 1, # bad\n",
    "                                                   2 : 1, 3 : 1, # average\n",
    "                                                   4 : 2, 5 : 2 # good\n",
    "                                                  })"
   ]
  },
  {
   "cell_type": "markdown",
   "execution_count": null,
   "metadata": {},
   "outputs": [],
   "source": [
    "2. Combine existing features"
   ]
  },
  {
   "cell_type": "code",
   "execution_count": 8,
   "metadata": {},
   "outputs": [],
   "source": [
    "# Overall quality of the house\n",
    "df[\"OverallGrade\"] = df[\"OverallQual\"] * df[\"OverallCond\"]\n",
    "# Overall quality of the garage\n",
    "df[\"GarageGrade\"] = df[\"GarageQual\"] * df[\"GarageCond\"]\n",
    "# Overall quality of the exterior\n",
    "df[\"ExterGrade\"] = df[\"ExterQual\"] * df[\"ExterCond\"]\n",
    "# Overall garage score\n",
    "df[\"GarageScore\"] = df[\"GarageArea\"] * df[\"GarageQual\"]\n",
    "# Simplified overall quality of the house\n",
    "df[\"SimplOverallGrade\"] = df[\"SimplOverallQual\"] * df[\"SimplOverallCond\"]\n",
    "# Simplified overall quality of the exterior\n",
    "df[\"SimplExterGrade\"] = df[\"SimplExterQual\"] * df[\"SimplExterCond\"]\n",
    "# Simplified overall garage score\n",
    "df[\"SimplGarageScore\"] = df[\"GarageArea\"] * df[\"SimplGarageQual\"]\n",
    "# Total number of bathrooms\n",
    "df[\"TotalBath\"] = df[\"BsmtFullBath\"] + (0.5 * df[\"BsmtHalfBath\"]) + df[\"FullBath\"] + (0.5 * df[\"HalfBath\"])\n",
    "# Total SF for house (incl. basement)\n",
    "df[\"AllSF\"] = df[\"GrLivArea\"] + df[\"TotalBsmtSF\"]\n",
    "# Total SF for 1st + 2nd floors\n",
    "df[\"AllFlrsSF\"] = df[\"1stFlrSF\"] + df[\"2ndFlrSF\"]\n",
    "# Total SF for porch\n",
    "df[\"AllPorchSF\"] = df[\"OpenPorchSF\"] + df[\"EnclosedPorch\"] + df[\"3SsnPorch\"] + df[\"ScreenPorch\"]\n",
    "# Has masonry veneer or not\n",
    "df[\"HasMasVnr\"] = df.MasVnrType.replace({\"BrkCmn\" : 1, \"BrkFace\" : 1, \"CBlock\" : 1, \n",
    "                                               \"Stone\" : 1, \"None\" : 0})\n",
    "# House completed before sale or not\n",
    "df[\"BoughtOffPlan\"] = df.SaleCondition.replace({\"Abnorml\" : 0, \"Alloca\" : 0, \"AdjLand\" : 0, \n",
    "                                                      \"Family\" : 0, \"Normal\" : 0, \"Partial\" : 1})"
   ]
  },
  {
   "cell_type": "markdown",
   "execution_count": null,
   "metadata": {},
   "outputs": [],
   "source": [
    "3. Polynomials on the top 10 existing features"
   ]
  },
  {
   "cell_type": "code",
   "execution_count": 9,
   "metadata": {},
   "outputs": [
    {
     "name": "stdout",
     "output_type": "stream",
     "text": "Find most important features relative to target\nSalePrice            1.000000\nOverallQual          0.817368\nOverallGrade         0.776385\nGrLivArea            0.730256\nSimplOverallQual     0.706206\nTotalBath            0.697596\nGarageCars           0.680645\nExterQual            0.678306\nSimplExterQual       0.678306\nSimplOverallGrade    0.673861\nKitchenQual          0.668011\nName: SalePrice, dtype: float64\n"
    }
   ],
   "source": [
    "# Find most important features relative to target\n",
    "print(\"Find most important features relative to target\")\n",
    "corr = df.corr()\n",
    "corr.sort_values([\"SalePrice\"], ascending = False, inplace = True)\n",
    "print(corr.SalePrice[:11])"
   ]
  },
  {
   "cell_type": "code",
   "execution_count": 10,
   "metadata": {},
   "outputs": [],
   "source": [
    "# 3* Polynomials on the top 10 existing features\n",
    "df[\"OverallQual-s2\"] = df[\"OverallQual\"] ** 2\n",
    "df[\"OverallQual-s3\"] = df[\"OverallQual\"] ** 3\n",
    "df[\"OverallQual-Sq\"] = np.sqrt(df[\"OverallQual\"])\n",
    "df[\"AllSF-2\"] = df[\"AllSF\"] ** 2\n",
    "df[\"AllSF-3\"] = df[\"AllSF\"] ** 3\n",
    "df[\"AllSF-Sq\"] = np.sqrt(df[\"AllSF\"])\n",
    "df[\"AllFlrsSF-2\"] = df[\"AllFlrsSF\"] ** 2\n",
    "df[\"AllFlrsSF-3\"] = df[\"AllFlrsSF\"] ** 3\n",
    "df[\"AllFlrsSF-Sq\"] = np.sqrt(df[\"AllFlrsSF\"])\n",
    "df[\"GrLivArea-2\"] = df[\"GrLivArea\"] ** 2\n",
    "df[\"GrLivArea-3\"] = df[\"GrLivArea\"] ** 3\n",
    "df[\"GrLivArea-Sq\"] = np.sqrt(df[\"GrLivArea\"])\n",
    "df[\"SimplOverallQual-s2\"] = df[\"SimplOverallQual\"] ** 2\n",
    "df[\"SimplOverallQual-s3\"] = df[\"SimplOverallQual\"] ** 3\n",
    "df[\"SimplOverallQual-Sq\"] = np.sqrt(df[\"SimplOverallQual\"])\n",
    "df[\"ExterQual-2\"] = df[\"ExterQual\"] ** 2\n",
    "df[\"ExterQual-3\"] = df[\"ExterQual\"] ** 3\n",
    "df[\"ExterQual-Sq\"] = np.sqrt(df[\"ExterQual\"])\n",
    "df[\"GarageCars-2\"] = df[\"GarageCars\"] ** 2\n",
    "df[\"GarageCars-3\"] = df[\"GarageCars\"] ** 3\n",
    "df[\"GarageCars-Sq\"] = np.sqrt(df[\"GarageCars\"])\n",
    "df[\"TotalBath-2\"] = df[\"TotalBath\"] ** 2\n",
    "df[\"TotalBath-3\"] = df[\"TotalBath\"] ** 3\n",
    "df[\"TotalBath-Sq\"] = np.sqrt(df[\"TotalBath\"])\n",
    "df[\"KitchenQual-2\"] = df[\"KitchenQual\"] ** 2\n",
    "df[\"KitchenQual-3\"] = df[\"KitchenQual\"] ** 3\n",
    "df[\"KitchenQual-Sq\"] = np.sqrt(df[\"KitchenQual\"])\n",
    "df[\"GarageScore-2\"] = df[\"GarageScore\"] ** 2\n",
    "df[\"GarageScore-3\"] = df[\"GarageScore\"] ** 3\n",
    "df[\"GarageScore-Sq\"] = np.sqrt(df[\"GarageScore\"])"
   ]
  },
  {
   "cell_type": "code",
   "execution_count": 11,
   "metadata": {},
   "outputs": [],
   "source": [
    "df.to_pickle(r\"output\\train-fe-advanced.pickle\")"
   ]
  }
 ]
}